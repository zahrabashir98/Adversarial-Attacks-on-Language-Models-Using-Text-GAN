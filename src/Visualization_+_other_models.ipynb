{
  "nbformat": 4,
  "nbformat_minor": 0,
  "metadata": {
    "colab": {
      "name": "Visualization + other models.ipynb",
      "provenance": [],
      "collapsed_sections": [],
      "toc_visible": true
    },
    "kernelspec": {
      "display_name": "Python 3",
      "name": "python3"
    }
  },
  "cells": [
    {
      "cell_type": "code",
      "metadata": {
        "id": "asKdXaF6QTTf"
      },
      "source": [
        "%pip install hickle\n",
        "import torch\n",
        "import torchtext\n",
        "import numpy as np\n",
        "from keras.datasets import imdb\n",
        "import hickle as hkl\n",
        "    \n",
        "# def save_vocab(vocab, path):\n",
        "#     with open(path, 'w+') as f:     \n",
        "#         for token, index in vocab.stoi.items():\n",
        "#             f.write(f'{index}\\t{token}')\n",
        "\n",
        "# def read_vocab(path):\n",
        "#     vocab = dict()\n",
        "#     with open(path, 'r') as f:\n",
        "#         for line in f:\n",
        "#             index, token = line.split('\\t')\n",
        "#             vocab[token] = int(index)\n",
        "#     return vocab\n",
        "import pickle\n",
        "\n",
        "def save_vocab(vocab, path):\n",
        "    output = open(path, 'wb')\n",
        "    pickle.dump(vocab, output)\n",
        "    output.close()\n",
        "\n",
        "def read_vocab(path):\n",
        "    output = open(path, 'rb')\n",
        "    vocab = pickle.load(output)\n",
        "    output.close()\n",
        "    return vocab\n",
        "\n",
        "def print_closest_words(vec, n=5):\n",
        "    dists = torch.norm(glove.vectors - vec, dim=1)     # compute distances to all words\n",
        "    lst = sorted(enumerate(dists.numpy()), key=lambda x: x[1]) # sort by distance\n",
        "    for idx, difference in lst[0:n+1]: \t\t\t\t\t       # take the top n\n",
        "        print(glove.itos[idx], difference)\n",
        "\n",
        "\n",
        "# print_closest_words(glove[\"cat\"], n=1)\n",
        "\n",
        "def get_embedding(dataset):\n",
        "    # The first time you run this will download a ~823MB file\n",
        "    glove = torchtext.vocab.GloVe(name=\"6B\", # trained on Wikipedia 2014 corpus\n",
        "                                  dim=50)   # embedding size = 100\n",
        "\n",
        "    save_vocab(glove, \"/content/drive/MyDrive/MLprj/test2000\")\n",
        "    print(\"=>>\", len(glove), glove)\n",
        "    encoded = []\n",
        "    for sentence in dataset:\n",
        "        encoded.append([glove[word] for word in sentence])\n",
        "    \n",
        "    return encoded\n",
        "    \n",
        "def load_data():\n",
        "        array_hkl = hkl.load('data_new2000.hkl')\n",
        "        X_train = array_hkl['xtrain']\n",
        "        X_test = array_hkl['xtest']\n",
        "        y_train = array_hkl['ytrain']\n",
        "        y_test = array_hkl['ytest']\n",
        "\n",
        "        word_index = imdb.get_word_index()\n",
        "        # step 2: reverse word index to map integer indexes to their respective words\n",
        "        reverse_word_index = dict([(value, key) for (key, value) in word_index.items()])\n",
        "\n",
        "        train_sentences = []\n",
        "        for i  in  range(len(X_train)):\n",
        "\n",
        "          decoded_review = [reverse_word_index.get(i - 3, '?') for i in X_train[i]]\n",
        "          if not len(X_train[i])==len(decoded_review):\n",
        "              print(len(decoded_review))\n",
        "          train_sentences.append(decoded_review)\n",
        "        print(np.array(train_sentences).shape)\n",
        "        return train_sentences, y_train \n",
        "\n",
        "a, b = load_data()\n",
        "get_embedding(a)\n",
        "\n",
        "\n",
        "\n",
        "\n",
        "\n",
        "glove = read_vocab(\"/content/drive/MyDrive/MLprj/test2000\")\n",
        "print(glove)\n",
        "print(glove[\"cat\"])\n",
        "print(glove[\"cat\"].shape)\n"
      ],
      "execution_count": null,
      "outputs": []
    },
    {
      "cell_type": "code",
      "metadata": {
        "id": "EXMFM47Nn99E"
      },
      "source": [
        "train = a \n",
        "# glove = torchtext.vocab.GloVe(name=\"6B\", # trained on Wikipedia 2014 corpus\n",
        "#                               dim=50)   # embedding size = 100\n",
        "# word_index = imdb.get_word_index()\n",
        "words_list = []\n",
        "vectors = []\n",
        "word_index = imdb.get_word_index()\n",
        "        # step 2: reverse word index to map integer indexes to their respective words\n",
        "reverse_word_index = dict([(value, key) for (key, value) in word_index.items()])\n",
        "\n",
        "print(reverse_word_index)\n",
        "\n",
        "for i in range(3, 3053): \n",
        "    word = reverse_word_index.get(i-3, '?')\n",
        "    vectors.append(glove[word])\n",
        "    words_list.append(word)\n",
        "\n",
        "\n",
        "def print_closest_words(vec):\n",
        "    closest_dist = 10000000\n",
        "    closest_word = -100\n",
        "    counter = 0 \n",
        "    for v in vectors: \n",
        "        if words_list[counter]==\"cat\" or words_list[counter]==\"dog\": \n",
        "          print(torch.norm(v - vec))\n",
        "          print(words_list[counter])\n",
        "        dist = torch.norm(v - vec)\n",
        "        if closest_dist >= dist: \n",
        "            closest_word = counter \n",
        "            closest_dist = dist\n",
        "\n",
        "        counter += 1\n",
        "    return words_list[closest_word], closest_dist\n",
        "\n",
        "print(print_closest_words(glove[\"cat\"]))\n",
        "print(glove[\"cat\"].shape)"
      ],
      "execution_count": null,
      "outputs": []
    },
    {
      "cell_type": "code",
      "metadata": {
        "id": "_rfw6ru3sUPL"
      },
      "source": [
        "word_to_vec = hkl.load('word_to_vec.hkl')\n",
        "words_list = word_to_vec[\"words_list\"]\n",
        "vectors = word_to_vec[\"vectors\"] \n",
        "\n",
        "def print_closest_words(vec):\n",
        "    dists = torch.norm(vectors - vec, dim=1)     # compute distances to all words\n",
        "    lst = sorted(enumerate(dists.numpy()), key=lambda x: x[1]) # sort by distance\n",
        "    for idx, difference in lst[0]: \t\t\t\t\t       # take the top n\n",
        "        print(glove.itos[idx], difference)\n",
        "        return glove.itos[idx]\n",
        "\n",
        "print(print_closest_words(glove[\"cat\"]))"
      ],
      "execution_count": null,
      "outputs": []
    },
    {
      "cell_type": "code",
      "metadata": {
        "id": "g-A83NE6l_JI"
      },
      "source": [
        "glove = torchtext.vocab.GloVe(name=\"6B\", # trained on Wikipedia 2014 corpus\n",
        "                              dim=50) \n",
        "len(glove[\"?\"]"
      ],
      "execution_count": null,
      "outputs": []
    },
    {
      "cell_type": "code",
      "metadata": {
        "colab": {
          "base_uri": "https://localhost:8080/"
        },
        "id": "a7_NRpvQOfy5",
        "outputId": "9bd5d6f0-a41e-49aa-eca9-435bda7eb787"
      },
      "source": [
        "from keras.datasets import imdb\n",
        "import numpy as np\n",
        "from keras.preprocessing.sequence import pad_sequences\n",
        "\n",
        "# Load the data, keeping only 10,000 of the most frequently occuring words\n",
        "(train_data, train_labels), (test_data, test_labels) = imdb.load_data(num_words = 1000)\n",
        "\n",
        "print()\n",
        "\n",
        "# step 1: load the dictionary mappings from word to integer index\n",
        "word_index = imdb.get_word_index()\n",
        "\n",
        "# step 2: reverse word index to map integer indexes to their respective words\n",
        "reverse_word_index = dict([(value, key) for (key, value) in word_index.items()])\n",
        "\n",
        "# Step 3: decode the review, mapping integer indices to words\n",
        "#\n",
        "# indices are off by 3 because 0, 1, and 2 are reserverd indices for \"padding\", \"Start of sequence\" and \"unknown\"\n",
        "decoded_review = ' '.join([reverse_word_index.get(i-3, '?') for i in train_data[10]])\n",
        "\n",
        "decoded_review\n",
        "\n",
        "\n",
        "\n",
        "def vectorize_sequences(sequences, dimension=1000):\n",
        "    results = np.zeros((len(sequences), dimension))    # Creates an all zero matrix of shape (len(sequences),10K)\n",
        "    for i,sequence in enumerate(sequences):\n",
        "        results[i,sequence] = 1                        # Sets specific indices of results[i] to 1s\n",
        "    return results\n",
        "\n",
        "# Vectorize training Data\n",
        "print(train_data[0])\n",
        "X_train = vectorize_sequences(train_data)\n",
        "print(X_train[0])\n",
        "# Vectorize testing Data\n",
        "X_test = vectorize_sequences(test_data)\n",
        "\n",
        "MAX_LENGTH= 300\n",
        "X_train = pad_sequences(X_train, maxlen=MAX_LENGTH)\n",
        "X_test = pad_sequences(X_test, maxlen=MAX_LENGTH)\n",
        "print(X_train[0])"
      ],
      "execution_count": null,
      "outputs": [
        {
          "output_type": "stream",
          "text": [
            "<string>:6: VisibleDeprecationWarning: Creating an ndarray from ragged nested sequences (which is a list-or-tuple of lists-or-tuples-or ndarrays with different lengths or shapes) is deprecated. If you meant to do this, you must specify 'dtype=object' when creating the ndarray\n",
            "/usr/local/lib/python3.7/dist-packages/tensorflow/python/keras/datasets/imdb.py:159: VisibleDeprecationWarning: Creating an ndarray from ragged nested sequences (which is a list-or-tuple of lists-or-tuples-or ndarrays with different lengths or shapes) is deprecated. If you meant to do this, you must specify 'dtype=object' when creating the ndarray\n",
            "  x_train, y_train = np.array(xs[:idx]), np.array(labels[:idx])\n",
            "/usr/local/lib/python3.7/dist-packages/tensorflow/python/keras/datasets/imdb.py:160: VisibleDeprecationWarning: Creating an ndarray from ragged nested sequences (which is a list-or-tuple of lists-or-tuples-or ndarrays with different lengths or shapes) is deprecated. If you meant to do this, you must specify 'dtype=object' when creating the ndarray\n",
            "  x_test, y_test = np.array(xs[idx:]), np.array(labels[idx:])\n"
          ],
          "name": "stderr"
        },
        {
          "output_type": "stream",
          "text": [
            "\n",
            "[1, 14, 22, 16, 43, 530, 973, 2, 2, 65, 458, 2, 66, 2, 4, 173, 36, 256, 5, 25, 100, 43, 838, 112, 50, 670, 2, 9, 35, 480, 284, 5, 150, 4, 172, 112, 167, 2, 336, 385, 39, 4, 172, 2, 2, 17, 546, 38, 13, 447, 4, 192, 50, 16, 6, 147, 2, 19, 14, 22, 4, 2, 2, 469, 4, 22, 71, 87, 12, 16, 43, 530, 38, 76, 15, 13, 2, 4, 22, 17, 515, 17, 12, 16, 626, 18, 2, 5, 62, 386, 12, 8, 316, 8, 106, 5, 4, 2, 2, 16, 480, 66, 2, 33, 4, 130, 12, 16, 38, 619, 5, 25, 124, 51, 36, 135, 48, 25, 2, 33, 6, 22, 12, 215, 28, 77, 52, 5, 14, 407, 16, 82, 2, 8, 4, 107, 117, 2, 15, 256, 4, 2, 7, 2, 5, 723, 36, 71, 43, 530, 476, 26, 400, 317, 46, 7, 4, 2, 2, 13, 104, 88, 4, 381, 15, 297, 98, 32, 2, 56, 26, 141, 6, 194, 2, 18, 4, 226, 22, 21, 134, 476, 26, 480, 5, 144, 30, 2, 18, 51, 36, 28, 224, 92, 25, 104, 4, 226, 65, 16, 38, 2, 88, 12, 16, 283, 5, 16, 2, 113, 103, 32, 15, 16, 2, 19, 178, 32]\n",
            "[0. 1. 1. 0. 1. 1. 1. 1. 1. 1. 0. 0. 1. 1. 1. 1. 1. 1. 1. 1. 0. 1. 1. 0.\n",
            " 0. 1. 1. 0. 1. 0. 1. 0. 1. 1. 0. 1. 1. 0. 1. 1. 0. 0. 0. 1. 0. 0. 1. 0.\n",
            " 1. 0. 1. 1. 1. 0. 0. 0. 1. 0. 0. 0. 0. 0. 1. 0. 0. 1. 1. 0. 0. 0. 0. 1.\n",
            " 0. 0. 0. 0. 1. 1. 0. 0. 0. 0. 1. 0. 0. 0. 0. 1. 1. 0. 0. 0. 1. 0. 0. 0.\n",
            " 0. 0. 1. 0. 1. 0. 0. 1. 1. 0. 1. 1. 0. 0. 0. 0. 1. 1. 0. 0. 0. 1. 0. 0.\n",
            " 0. 0. 0. 0. 1. 0. 0. 0. 0. 0. 1. 0. 0. 0. 1. 1. 0. 0. 0. 0. 0. 1. 0. 0.\n",
            " 1. 0. 0. 1. 0. 0. 1. 0. 0. 0. 0. 0. 0. 0. 0. 0. 0. 0. 0. 0. 0. 0. 0. 1.\n",
            " 0. 0. 0. 0. 1. 1. 0. 0. 0. 0. 1. 0. 0. 0. 0. 0. 0. 0. 0. 0. 0. 0. 0. 0.\n",
            " 1. 0. 1. 0. 0. 0. 0. 0. 0. 0. 0. 0. 0. 0. 0. 0. 0. 0. 0. 0. 0. 0. 0. 1.\n",
            " 0. 0. 0. 0. 0. 0. 0. 0. 1. 0. 1. 0. 0. 0. 0. 0. 0. 0. 0. 0. 0. 0. 0. 0.\n",
            " 0. 0. 0. 0. 0. 0. 0. 0. 0. 0. 0. 0. 0. 0. 0. 0. 1. 0. 0. 0. 0. 0. 0. 0.\n",
            " 0. 0. 0. 0. 0. 0. 0. 0. 0. 0. 0. 0. 0. 0. 0. 0. 0. 0. 0. 1. 1. 0. 0. 0.\n",
            " 0. 0. 0. 0. 0. 0. 0. 0. 0. 1. 0. 0. 0. 0. 0. 0. 0. 0. 0. 0. 0. 0. 0. 0.\n",
            " 0. 0. 0. 0. 1. 1. 0. 0. 0. 0. 0. 0. 0. 0. 0. 0. 0. 0. 0. 0. 0. 0. 0. 0.\n",
            " 1. 0. 0. 0. 0. 0. 0. 0. 0. 0. 0. 0. 0. 0. 0. 0. 0. 0. 0. 0. 0. 0. 0. 0.\n",
            " 0. 0. 0. 0. 0. 0. 0. 0. 0. 0. 0. 0. 0. 0. 0. 0. 0. 0. 0. 0. 0. 1. 0. 0.\n",
            " 0. 1. 1. 0. 0. 0. 0. 0. 0. 0. 0. 0. 0. 0. 0. 0. 1. 0. 0. 0. 0. 0. 0. 1.\n",
            " 0. 0. 0. 0. 0. 0. 0. 0. 0. 0. 0. 0. 0. 0. 0. 0. 0. 0. 0. 0. 0. 0. 0. 0.\n",
            " 0. 0. 0. 0. 0. 0. 0. 0. 0. 0. 0. 0. 0. 0. 0. 1. 0. 0. 0. 0. 0. 0. 0. 0.\n",
            " 0. 0. 1. 0. 0. 0. 0. 0. 0. 0. 0. 0. 0. 1. 0. 0. 0. 0. 0. 0. 1. 0. 0. 0.\n",
            " 1. 0. 0. 0. 0. 0. 0. 0. 0. 0. 0. 0. 0. 0. 0. 0. 0. 0. 0. 0. 0. 0. 0. 0.\n",
            " 0. 0. 0. 0. 0. 0. 0. 0. 0. 0. 0. 1. 0. 0. 0. 0. 0. 0. 0. 0. 0. 0. 0. 0.\n",
            " 0. 0. 1. 0. 0. 0. 0. 0. 0. 0. 0. 0. 0. 0. 0. 0. 0. 0. 1. 0. 0. 0. 0. 0.\n",
            " 0. 0. 0. 0. 0. 0. 0. 0. 0. 0. 0. 0. 0. 0. 0. 0. 0. 0. 0. 0. 0. 0. 0. 0.\n",
            " 0. 0. 0. 0. 0. 0. 0. 0. 0. 0. 0. 0. 0. 0. 0. 0. 0. 0. 0. 0. 0. 0. 0. 0.\n",
            " 0. 0. 0. 0. 0. 0. 0. 0. 0. 0. 0. 0. 0. 0. 0. 0. 0. 0. 0. 1. 0. 0. 0. 0.\n",
            " 0. 0. 1. 0. 0. 0. 0. 0. 0. 0. 0. 0. 0. 0. 0. 0. 0. 0. 0. 0. 0. 0. 0. 0.\n",
            " 0. 0. 0. 0. 0. 0. 0. 0. 0. 0. 0. 0. 0. 0. 0. 0. 0. 0. 0. 0. 0. 0. 1. 0.\n",
            " 0. 0. 0. 0. 0. 0. 0. 0. 0. 0. 0. 0. 0. 0. 0. 0. 0. 0. 0. 0. 0. 0. 0. 0.\n",
            " 0. 0. 0. 0. 0. 0. 0. 0. 0. 0. 0. 0. 0. 0. 0. 0. 0. 0. 0. 0. 0. 0. 0. 0.\n",
            " 0. 0. 0. 1. 0. 0. 0. 0. 0. 0. 0. 0. 0. 0. 0. 0. 0. 0. 0. 0. 0. 0. 0. 0.\n",
            " 0. 0. 0. 0. 0. 0. 0. 0. 0. 0. 0. 0. 0. 0. 0. 0. 0. 0. 0. 0. 0. 0. 0. 0.\n",
            " 0. 0. 0. 0. 0. 0. 0. 0. 0. 0. 0. 0. 0. 0. 0. 0. 0. 0. 0. 0. 0. 0. 0. 0.\n",
            " 0. 0. 0. 0. 0. 0. 0. 0. 0. 0. 0. 0. 0. 0. 0. 0. 0. 0. 0. 0. 0. 0. 0. 0.\n",
            " 0. 0. 0. 0. 0. 0. 0. 0. 0. 0. 0. 0. 0. 0. 0. 0. 0. 0. 0. 0. 0. 0. 1. 0.\n",
            " 0. 0. 0. 0. 0. 0. 0. 0. 0. 0. 0. 0. 0. 0. 0. 0. 0. 0. 0. 0. 0. 0. 0. 0.\n",
            " 0. 0. 0. 0. 0. 0. 0. 0. 0. 0. 0. 0. 0. 0. 0. 0. 0. 0. 0. 0. 0. 0. 0. 0.\n",
            " 0. 0. 0. 0. 0. 0. 0. 0. 0. 0. 0. 0. 0. 0. 0. 0. 0. 0. 0. 0. 0. 0. 0. 0.\n",
            " 0. 0. 0. 0. 0. 0. 0. 0. 0. 0. 0. 0. 0. 0. 0. 0. 0. 0. 0. 0. 0. 0. 0. 0.\n",
            " 0. 0. 0. 0. 0. 0. 0. 0. 0. 0. 0. 0. 0. 0. 0. 0. 0. 0. 0. 0. 0. 0. 0. 0.\n",
            " 0. 0. 0. 0. 0. 0. 0. 0. 0. 0. 0. 0. 0. 1. 0. 0. 0. 0. 0. 0. 0. 0. 0. 0.\n",
            " 0. 0. 0. 0. 0. 0. 0. 0. 0. 0. 0. 0. 0. 0. 0. 0.]\n",
            "[0 0 0 0 0 0 0 0 0 0 0 0 0 0 0 0 0 0 0 0 0 0 0 1 0 0 0 0 0 0 0 0 0 0 0 0 0\n",
            " 0 0 0 0 0 0 0 0 0 0 0 0 0 0 0 0 0 0 0 0 0 0 0 0 0 0 0 0 0 0 0 0 0 0 0 0 0\n",
            " 0 0 0 0 0 0 0 0 0 0 0 0 0 0 0 0 0 0 0 0 0 0 0 0 0 0 0 0 0 0 0 0 0 0 0 0 0\n",
            " 0 0 0 0 0 0 0 0 0 0 0 0 0 0 0 0 0 0 0 0 0 0 0 0 0 0 0 1 0 0 0 0 0 0 0 0 0\n",
            " 0 0 0 0 0 0 0 0 0 0 0 0 0 0 0 0 0 0 0 0 0 0 0 0 0 0 0 0 0 0 0 0 0 0 0 0 0\n",
            " 0 0 0 0 0 0 0 0 0 0 0 0 0 0 0 0 0 0 0 0 0 0 0 0 0 0 0 0 0 0 0 0 0 0 0 0 0\n",
            " 0 0 0 0 0 0 0 0 0 0 0 0 0 0 0 0 0 0 0 0 0 0 0 0 0 0 0 0 0 0 0 0 0 0 0 0 0\n",
            " 0 0 0 0 0 0 0 0 0 0 0 0 0 0 1 0 0 0 0 0 0 0 0 0 0 0 0 0 0 0 0 0 0 0 0 0 0\n",
            " 0 0 0 0]\n"
          ],
          "name": "stdout"
        }
      ]
    },
    {
      "cell_type": "code",
      "metadata": {
        "colab": {
          "base_uri": "https://localhost:8080/"
        },
        "id": "nyFg_RCRFGTn",
        "outputId": "eb0a4e4b-7b6d-4dd5-cb2e-03c5b25ebe57"
      },
      "source": [
        "%pip install tensorflow==2.4\n",
        "%pip install keras==2.4.3"
      ],
      "execution_count": null,
      "outputs": [
        {
          "output_type": "stream",
          "text": [
            "Collecting tensorflow==2.4\n",
            "\u001b[?25l  Downloading https://files.pythonhosted.org/packages/94/0a/012cc33c643d844433d13001dd1db179e7020b05ddbbd0a9dc86c38a8efa/tensorflow-2.4.0-cp37-cp37m-manylinux2010_x86_64.whl (394.7MB)\n",
            "\u001b[K     |████████████████████████████████| 394.7MB 42kB/s \n",
            "\u001b[?25hRequirement already satisfied: gast==0.3.3 in /usr/local/lib/python3.7/dist-packages (from tensorflow==2.4) (0.3.3)\n",
            "Requirement already satisfied: tensorflow-estimator<2.5.0,>=2.4.0rc0 in /usr/local/lib/python3.7/dist-packages (from tensorflow==2.4) (2.4.0)\n",
            "Requirement already satisfied: flatbuffers~=1.12.0 in /usr/local/lib/python3.7/dist-packages (from tensorflow==2.4) (1.12)\n",
            "Requirement already satisfied: termcolor~=1.1.0 in /usr/local/lib/python3.7/dist-packages (from tensorflow==2.4) (1.1.0)\n",
            "Requirement already satisfied: numpy~=1.19.2 in /usr/local/lib/python3.7/dist-packages (from tensorflow==2.4) (1.19.5)\n",
            "Requirement already satisfied: keras-preprocessing~=1.1.2 in /usr/local/lib/python3.7/dist-packages (from tensorflow==2.4) (1.1.2)\n",
            "Requirement already satisfied: six~=1.15.0 in /usr/local/lib/python3.7/dist-packages (from tensorflow==2.4) (1.15.0)\n",
            "Requirement already satisfied: wrapt~=1.12.1 in /usr/local/lib/python3.7/dist-packages (from tensorflow==2.4) (1.12.1)\n",
            "Requirement already satisfied: google-pasta~=0.2 in /usr/local/lib/python3.7/dist-packages (from tensorflow==2.4) (0.2.0)\n",
            "Requirement already satisfied: wheel~=0.35 in /usr/local/lib/python3.7/dist-packages (from tensorflow==2.4) (0.36.2)\n",
            "Requirement already satisfied: h5py~=2.10.0 in /usr/local/lib/python3.7/dist-packages (from tensorflow==2.4) (2.10.0)\n",
            "Requirement already satisfied: astunparse~=1.6.3 in /usr/local/lib/python3.7/dist-packages (from tensorflow==2.4) (1.6.3)\n",
            "Requirement already satisfied: tensorboard~=2.4 in /usr/local/lib/python3.7/dist-packages (from tensorflow==2.4) (2.4.1)\n",
            "Requirement already satisfied: typing-extensions~=3.7.4 in /usr/local/lib/python3.7/dist-packages (from tensorflow==2.4) (3.7.4.3)\n",
            "Requirement already satisfied: grpcio~=1.32.0 in /usr/local/lib/python3.7/dist-packages (from tensorflow==2.4) (1.32.0)\n",
            "Requirement already satisfied: opt-einsum~=3.3.0 in /usr/local/lib/python3.7/dist-packages (from tensorflow==2.4) (3.3.0)\n",
            "Requirement already satisfied: protobuf>=3.9.2 in /usr/local/lib/python3.7/dist-packages (from tensorflow==2.4) (3.12.4)\n",
            "Requirement already satisfied: absl-py~=0.10 in /usr/local/lib/python3.7/dist-packages (from tensorflow==2.4) (0.10.0)\n",
            "Requirement already satisfied: google-auth-oauthlib<0.5,>=0.4.1 in /usr/local/lib/python3.7/dist-packages (from tensorboard~=2.4->tensorflow==2.4) (0.4.3)\n",
            "Requirement already satisfied: tensorboard-plugin-wit>=1.6.0 in /usr/local/lib/python3.7/dist-packages (from tensorboard~=2.4->tensorflow==2.4) (1.8.0)\n",
            "Requirement already satisfied: google-auth<2,>=1.6.3 in /usr/local/lib/python3.7/dist-packages (from tensorboard~=2.4->tensorflow==2.4) (1.27.1)\n",
            "Requirement already satisfied: werkzeug>=0.11.15 in /usr/local/lib/python3.7/dist-packages (from tensorboard~=2.4->tensorflow==2.4) (1.0.1)\n",
            "Requirement already satisfied: markdown>=2.6.8 in /usr/local/lib/python3.7/dist-packages (from tensorboard~=2.4->tensorflow==2.4) (3.3.4)\n",
            "Requirement already satisfied: requests<3,>=2.21.0 in /usr/local/lib/python3.7/dist-packages (from tensorboard~=2.4->tensorflow==2.4) (2.23.0)\n",
            "Requirement already satisfied: setuptools>=41.0.0 in /usr/local/lib/python3.7/dist-packages (from tensorboard~=2.4->tensorflow==2.4) (54.1.2)\n",
            "Requirement already satisfied: requests-oauthlib>=0.7.0 in /usr/local/lib/python3.7/dist-packages (from google-auth-oauthlib<0.5,>=0.4.1->tensorboard~=2.4->tensorflow==2.4) (1.3.0)\n",
            "Requirement already satisfied: pyasn1-modules>=0.2.1 in /usr/local/lib/python3.7/dist-packages (from google-auth<2,>=1.6.3->tensorboard~=2.4->tensorflow==2.4) (0.2.8)\n",
            "Requirement already satisfied: cachetools<5.0,>=2.0.0 in /usr/local/lib/python3.7/dist-packages (from google-auth<2,>=1.6.3->tensorboard~=2.4->tensorflow==2.4) (4.2.1)\n",
            "Requirement already satisfied: rsa<5,>=3.1.4; python_version >= \"3.6\" in /usr/local/lib/python3.7/dist-packages (from google-auth<2,>=1.6.3->tensorboard~=2.4->tensorflow==2.4) (4.7.2)\n",
            "Requirement already satisfied: importlib-metadata; python_version < \"3.8\" in /usr/local/lib/python3.7/dist-packages (from markdown>=2.6.8->tensorboard~=2.4->tensorflow==2.4) (3.7.2)\n",
            "Requirement already satisfied: idna<3,>=2.5 in /usr/local/lib/python3.7/dist-packages (from requests<3,>=2.21.0->tensorboard~=2.4->tensorflow==2.4) (2.10)\n",
            "Requirement already satisfied: chardet<4,>=3.0.2 in /usr/local/lib/python3.7/dist-packages (from requests<3,>=2.21.0->tensorboard~=2.4->tensorflow==2.4) (3.0.4)\n",
            "Requirement already satisfied: certifi>=2017.4.17 in /usr/local/lib/python3.7/dist-packages (from requests<3,>=2.21.0->tensorboard~=2.4->tensorflow==2.4) (2020.12.5)\n",
            "Requirement already satisfied: urllib3!=1.25.0,!=1.25.1,<1.26,>=1.21.1 in /usr/local/lib/python3.7/dist-packages (from requests<3,>=2.21.0->tensorboard~=2.4->tensorflow==2.4) (1.24.3)\n",
            "Requirement already satisfied: oauthlib>=3.0.0 in /usr/local/lib/python3.7/dist-packages (from requests-oauthlib>=0.7.0->google-auth-oauthlib<0.5,>=0.4.1->tensorboard~=2.4->tensorflow==2.4) (3.1.0)\n",
            "Requirement already satisfied: pyasn1<0.5.0,>=0.4.6 in /usr/local/lib/python3.7/dist-packages (from pyasn1-modules>=0.2.1->google-auth<2,>=1.6.3->tensorboard~=2.4->tensorflow==2.4) (0.4.8)\n",
            "Requirement already satisfied: zipp>=0.5 in /usr/local/lib/python3.7/dist-packages (from importlib-metadata; python_version < \"3.8\"->markdown>=2.6.8->tensorboard~=2.4->tensorflow==2.4) (3.4.1)\n",
            "Installing collected packages: tensorflow\n",
            "  Found existing installation: tensorflow 2.4.1\n",
            "    Uninstalling tensorflow-2.4.1:\n",
            "      Successfully uninstalled tensorflow-2.4.1\n",
            "Successfully installed tensorflow-2.4.0\n",
            "Requirement already satisfied: keras==2.4.3 in /usr/local/lib/python3.7/dist-packages (2.4.3)\n",
            "Requirement already satisfied: scipy>=0.14 in /usr/local/lib/python3.7/dist-packages (from keras==2.4.3) (1.4.1)\n",
            "Requirement already satisfied: pyyaml in /usr/local/lib/python3.7/dist-packages (from keras==2.4.3) (3.13)\n",
            "Requirement already satisfied: numpy>=1.9.1 in /usr/local/lib/python3.7/dist-packages (from keras==2.4.3) (1.19.5)\n",
            "Requirement already satisfied: h5py in /usr/local/lib/python3.7/dist-packages (from keras==2.4.3) (2.10.0)\n",
            "Requirement already satisfied: six in /usr/local/lib/python3.7/dist-packages (from h5py->keras==2.4.3) (1.15.0)\n"
          ],
          "name": "stdout"
        }
      ]
    },
    {
      "cell_type": "markdown",
      "metadata": {
        "id": "WNpuJUAZqhfz"
      },
      "source": [
        "# Naive Bayes"
      ]
    },
    {
      "cell_type": "code",
      "metadata": {
        "colab": {
          "base_uri": "https://localhost:8080/"
        },
        "id": "O8MGSEqW0yEY",
        "outputId": "a2a3e44f-291d-4fd4-c5bd-fe55f7d4bca5"
      },
      "source": [
        "from google.colab import drive\n",
        "drive.mount('/content/drive')"
      ],
      "execution_count": null,
      "outputs": [
        {
          "output_type": "stream",
          "text": [
            "Mounted at /content/drive\n"
          ],
          "name": "stdout"
        }
      ]
    },
    {
      "cell_type": "code",
      "metadata": {
        "colab": {
          "base_uri": "https://localhost:8080/"
        },
        "id": "u45qJp5TqmgG",
        "outputId": "61fb5259-ed4b-48a5-a59b-603138999230"
      },
      "source": [
        "from sklearn.naive_bayes import BernoulliNB\n",
        "from sklearn.model_selection import train_test_split\n",
        "from sklearn.metrics import accuracy_score\n",
        "\n",
        "X_train, X_test, Y_train, Y_test = X_train, X_test, train_labels, test_labels  \n",
        "print(X_train)\n",
        "bnb = BernoulliNB(binarize=0.0)\n",
        "bnb.fit(X_train, Y_train)\n",
        "print(bnb.score(X_test, Y_test))\n",
        "y_pred = bnb.predict(X_train)\n",
        "train_acc = accuracy_score(Y_train, y_pred)\n",
        "print(\"accuracy:\", train_acc)"
      ],
      "execution_count": null,
      "outputs": [
        {
          "output_type": "stream",
          "text": [
            "[[0 0 0 ... 0 0 0]\n",
            " [0 0 0 ... 0 0 0]\n",
            " [0 0 0 ... 0 0 0]\n",
            " ...\n",
            " [0 0 0 ... 0 0 0]\n",
            " [0 0 0 ... 0 0 0]\n",
            " [0 0 0 ... 0 0 0]]\n",
            "0.7076\n",
            "accuracy: 0.7162\n"
          ],
          "name": "stdout"
        }
      ]
    },
    {
      "cell_type": "code",
      "metadata": {
        "id": "klGISUyz1Kbw",
        "colab": {
          "base_uri": "https://localhost:8080/"
        },
        "outputId": "23a5a77d-8996-42a6-a7e3-6a94cbc4ca10"
      },
      "source": [
        "bnb.predict(X_train)[10]"
      ],
      "execution_count": null,
      "outputs": [
        {
          "output_type": "execute_result",
          "data": {
            "text/plain": [
              "1"
            ]
          },
          "metadata": {
            "tags": []
          },
          "execution_count": 5
        }
      ]
    },
    {
      "cell_type": "code",
      "metadata": {
        "id": "UsQHGatwYib6"
      },
      "source": [
        "from keras import objectives, backend as K\n",
        "from keras.layers import Bidirectional, Dense, Embedding, Input, Lambda, LSTM, RepeatVector, TimeDistributed\n",
        "from keras.models import Model\n",
        "import keras\n",
        "from keras.preprocessing.sequence import pad_sequences\n",
        "\n",
        "\n",
        "class VAE(object):\n",
        "    def create(self, vocab_size=1000, max_length=300, latent_rep_size=1000):\n",
        "        self.encoder = None\n",
        "        self.decoder = None\n",
        "        self.sentiment_predictor = None\n",
        "        self.autoencoder = None\n",
        "\n",
        "        x = Input(shape=(max_length,))\n",
        "        x_embed = Embedding(vocab_size, 128, input_length=max_length)(x)\n",
        "\n",
        "        vae_loss, encoded = self._build_encoder(x_embed, latent_rep_size=latent_rep_size, max_length=max_length)\n",
        "        self.encoder = Model(inputs=x, outputs=encoded)\n",
        "\n",
        "        encoded_input = Input(shape=(latent_rep_size,))\n",
        "        predicted_sentiment = self._build_sentiment_predictor(encoded_input)\n",
        "        self.sentiment_predictor = Model(encoded_input, predicted_sentiment)\n",
        "\n",
        "        decoded = self._build_decoder(encoded_input, vocab_size, max_length)\n",
        "        self.decoder = Model(encoded_input, decoded)\n",
        "\n",
        "        self.autoencoder = Model(inputs=x, outputs=[self._build_decoder(encoded, vocab_size, max_length)])\n",
        "        # self.autoencoder.add_loss(vae_loss)\n",
        "        self.autoencoder.compile(optimizer='Adam', loss = vae_loss,\n",
        "                                 metrics=['accuracy'])\n",
        "        print(\"creation done!\")\n",
        "\n",
        "    def _build_encoder(self, x, latent_rep_size=1000, max_length=300, epsilon_std=0.01):\n",
        "        h = Bidirectional(LSTM(500, return_sequences=True, name='lstm_1'), merge_mode='concat')(x)\n",
        "        h = Bidirectional(LSTM(500, return_sequences=False, name='lstm_2'), merge_mode='concat')(h)\n",
        "        h = Dense(2000, activation='relu', name='dense_1')(h)\n",
        "\n",
        "        def sampling(args):\n",
        "            z_mean_, z_log_var_ = args\n",
        "            batch_size = K.shape(z_mean_)[0]\n",
        "            epsilon = K.random_normal(shape=(batch_size, latent_rep_size), mean=0., stddev=epsilon_std)\n",
        "            return z_mean_ + K.exp(z_log_var_ / 2) * epsilon\n",
        "\n",
        "        z_mean = Dense(latent_rep_size, name='z_mean', activation='linear')(h)\n",
        "        z_log_var = Dense(latent_rep_size, name='z_log_var', activation='linear')(h)\n",
        "\n",
        "        def vae_loss(x, x_decoded_mean):\n",
        "            x = K.flatten(x)\n",
        "            x_decoded_mean = K.flatten(x_decoded_mean)\n",
        "            xent_loss = max_length * objectives.binary_crossentropy(x, x_decoded_mean)\n",
        "            kl_loss = - 0.5 * K.mean(1 + z_log_var - K.square(z_mean) - K.exp(z_log_var), axis=-1)\n",
        "            return xent_loss + kl_loss\n",
        "        print(\"encoder built\")\n",
        "        return (vae_loss, Lambda(sampling, output_shape=(latent_rep_size,), name='lambda')([z_mean, z_log_var]))\n",
        "\n",
        "    def _build_decoder(self, encoded, vocab_size, max_length):\n",
        "        repeated_context = RepeatVector(max_length)(encoded)\n",
        "\n",
        "        h = LSTM(500, return_sequences=True, name='dec_lstm_1')(repeated_context)\n",
        "        h = LSTM(500, return_sequences=True, name='dec_lstm_2')(h)\n",
        "        decoded = TimeDistributed(Dense(vocab_size, activation='softmax'), name='decoded_mean')(h)\n",
        "        print(\"decoder built\")\n",
        "        return decoded\n",
        "\n",
        "    def _build_sentiment_predictor(self, encoded):\n",
        "        h = Dense(100, activation='linear')(encoded)\n",
        "        print(\"sentiment done\")\n",
        "        return Dense(1, activation='sigmoid', name='pred')(h)\n"
      ],
      "execution_count": null,
      "outputs": []
    },
    {
      "cell_type": "code",
      "metadata": {
        "id": "kL1zKihdJUly"
      },
      "source": [
        "from keras import objectives, backend as K \n",
        "from keras.layers import Bidirectional, Dense, Embedding, Input, Lambda, LSTM, RepeatVector, TimeDistributed \n",
        "from keras.models import Model \n",
        "import keras\n",
        "\n",
        "class AE(object): \n",
        "  def create(self, vocab_size=1000, max_length=200, latent_rep_size=300): \n",
        "    self.encoder = None \n",
        "    self.decoder = None \n",
        "    self.autoencoder = None\n",
        "\n",
        "    x = Input(shape=(max_length,))\n",
        "    x_embed = Embedding(vocab_size, 128, input_length=max_length)(x)\n",
        " \n",
        "    encoded, vae_loss = self._build_encoder(x_embed, latent_rep_size=latent_rep_size, max_length=max_length)\n",
        "    self.encoder = Model(inputs=x, outputs=encoded)\n",
        " \n",
        "    encoded_input = Input(shape=(latent_rep_size,))\n",
        "    # predicted_sentiment = self._build_sentiment_predictor(encoded_input)\n",
        "    # self.sentiment_predictor = Model(encoded_input, predicted_sentiment)\n",
        "    print(\"111111111\")\n",
        "    decoded = self._build_decoder(encoded_input, vocab_size, max_length)\n",
        "    self.decoder = Model(encoded_input, decoded)\n",
        " \n",
        "    self.autoencoder = Model(inputs=x, outputs=[self._build_decoder(encoded, vocab_size, max_length)])\n",
        " \n",
        "    self.autoencoder.compile(optimizer='Adam', loss=vae_loss,\n",
        "                             metrics=['accuracy'])\n",
        "    print(\"creation done!\")\n",
        " \n",
        "  def _build_encoder(self, x, latent_rep_size=1000, max_length=200, epsilon_std=0.01):\n",
        "    h = Bidirectional(LSTM(500, return_sequences=True, name='lstm_1'), merge_mode='concat')(x)\n",
        "    h = Bidirectional(LSTM(500, return_sequences=False, name='lstm_2'), merge_mode='concat')(h)\n",
        "    h = Dense(500, activation='relu', name='dense_1')(h)\n",
        "    encoded = Dense(latent_rep_size, name='dense_2', activation='linear')(h)\n",
        " \n",
        "    def vae_loss(x, x_decoded_mean):\n",
        "        x = K.flatten(x)\n",
        "        x_decoded_mean = K.flatten(x_decoded_mean)\n",
        "        xent_loss = max_length * objectives.binary_crossentropy(x, x_decoded_mean)\n",
        "        return xent_loss \n",
        " \n",
        "    print(\"encoder built\")\n",
        "    return encoded, vae_loss\n",
        " \n",
        "  def _build_decoder(self, encoded, vocab_size, max_length):\n",
        "    repeated_context = RepeatVector(max_length)(encoded)\n",
        "    h = LSTM(500, return_sequences=True, name='dec_lstm_1')(repeated_context)\n",
        "    h = LSTM(500, return_sequences=True, name='dec_lstm_2')(h)\n",
        "    decoded = TimeDistributed(Dense(vocab_size, activation='softmax'), name='decoded_mean')(h)\n",
        "    print(\"decoder built\")\n",
        "    return decoded"
      ],
      "execution_count": null,
      "outputs": []
    },
    {
      "cell_type": "code",
      "metadata": {
        "id": "oPDA8VSTXpl5",
        "colab": {
          "base_uri": "https://localhost:8080/"
        },
        "outputId": "f1378587-d654-4be5-f05c-7e825c56d457"
      },
      "source": [
        "!pip install hickle\n",
        "from keras.datasets import imdb\n",
        "import numpy as np\n",
        "from sklearn.naive_bayes import BernoulliNB\n",
        "from sklearn.model_selection import train_test_split\n",
        "import os\n",
        "from keras.callbacks import ModelCheckpoint\n",
        "from keras.preprocessing.sequence import pad_sequences\n",
        "# from model import VAE\n",
        "\n",
        "from tensorflow.python.framework.ops import disable_eager_execution\n",
        "\n",
        "disable_eager_execution()\n",
        "\n",
        "# import tensorflow as tf\n",
        "# tf.config.experimental_run_functions_eagerly(True)\n",
        "\n",
        "MAX_LENGTH = 200\n",
        "NUM_WORDS = 1000\n",
        "\n",
        "# (X_train, y_train), (X_test, y_test) = imdb.load_data(num_words=NUM_WORDS)\n",
        "\n",
        "import hickle as hkl\n",
        "\n",
        "# X_train = pad_sequences(X_train, maxlen=MAX_LENGTH)\n",
        "# X_test = pad_sequences(X_test, maxlen=MAX_LENGTH)\n",
        "\n",
        "\n",
        "# train_indices = np.random.choice(np.arange(X_train.shape[0]),  3000, replace=False)\n",
        "# test_indices = np.random.choice(np.arange(X_test.shape[0]), 1000, replace=False)\n",
        "\n",
        "# X_train = X_train[train_indices]\n",
        "# y_train = y_train[train_indices]\n",
        "\n",
        "# X_test = X_test[test_indices]\n",
        "# y_test = y_test[test_indices]\n",
        "\n",
        "array_hkl = hkl.load('/content/drive/MyDrive/MLprj/data_3000.hkl')\n",
        "X_train = array_hkl['xtrain']\n",
        "X_test = array_hkl['xtest']\n",
        "y_train = array_hkl['ytrain']\n",
        "y_test = array_hkl['ytest']\n",
        "\n",
        "temp = np.zeros((X_train.shape[0], MAX_LENGTH, NUM_WORDS))\n",
        "temp[np.expand_dims(np.arange(X_train.shape[0]), axis=0).reshape(X_train.shape[0], 1), np.repeat(np.array([np.arange(MAX_LENGTH)]), X_train.shape[0], axis=0), X_train] = 1\n",
        "\n",
        "X_train_one_hot = temp\n",
        "\n",
        "temp = np.zeros((X_test.shape[0], MAX_LENGTH, NUM_WORDS))\n",
        "temp[np.expand_dims(np.arange(X_test.shape[0]), axis=0).reshape(X_test.shape[0], 1), np.repeat(np.array([np.arange(MAX_LENGTH)]), X_test.shape[0], axis=0), X_test] = 1\n",
        "\n",
        "x_test_one_hot = temp\n",
        "\n",
        "\n",
        "\n",
        "def create_model_checkpoint(dir, model_name):\n",
        "    filepath = dir + '/' + \\\n",
        "               model_name + \"-{epoch:02d}.h5\"\n",
        "    print(\"=>\", filepath)  \n",
        "    directory = os.path.dirname(filepath)\n",
        "\n",
        "    try:\n",
        "        os.stat(directory)\n",
        "    except:\n",
        "        os.mkdir(directory)\n",
        "\n",
        "    checkpointer = ModelCheckpoint(filepath=filepath,\n",
        "                                   verbose=1,\n",
        "                                   save_best_only=False)\n",
        "\n",
        "    return checkpointer\n",
        "\n",
        "\n",
        "def train():\n",
        "    model = AE()\n",
        "    model.create(vocab_size=NUM_WORDS, max_length=MAX_LENGTH)\n",
        "\n",
        "    checkpointer = create_model_checkpoint('/content/drive/MyDrive/adverserial', 'rnn_myae_final_')\n",
        "\n",
        "    model.autoencoder.fit(x=X_train, y={'decoded_mean': X_train_one_hot, 'pred': y_train},\n",
        "                            batch_size=10, epochs=3, callbacks=[checkpointer],\n",
        "                            validation_data=(X_test, {'decoded_mean': x_test_one_hot, 'pred':  y_test}))\n",
        "    \n",
        "    # p = model.autoencoder.predict(x_test_one_hot[0])\n",
        "    # print(p)\n",
        "    return model\n",
        "\n",
        "model = train()\n"
      ],
      "execution_count": null,
      "outputs": [
        {
          "output_type": "stream",
          "text": [
            "Collecting hickle\n",
            "\u001b[?25l  Downloading https://files.pythonhosted.org/packages/42/ee/7f442cb653c22f6f1d9de922919be58d81bc8a09ec4f6d886ce447683596/hickle-4.0.4-py3-none-any.whl (49kB)\n",
            "\r\u001b[K     |██████▊                         | 10kB 16.1MB/s eta 0:00:01\r\u001b[K     |█████████████▍                  | 20kB 7.8MB/s eta 0:00:01\r\u001b[K     |████████████████████            | 30kB 6.9MB/s eta 0:00:01\r\u001b[K     |██████████████████████████▊     | 40kB 6.5MB/s eta 0:00:01\r\u001b[K     |████████████████████████████████| 51kB 2.7MB/s \n",
            "\u001b[?25hRequirement already satisfied: dill>=0.3.0 in /usr/local/lib/python3.7/dist-packages (from hickle) (0.3.3)\n",
            "Requirement already satisfied: h5py<3.0.0,>=2.8.0 in /usr/local/lib/python3.7/dist-packages (from hickle) (2.10.0)\n",
            "Requirement already satisfied: six>=1.11.0 in /usr/local/lib/python3.7/dist-packages (from hickle) (1.15.0)\n",
            "Requirement already satisfied: numpy>=1.8 in /usr/local/lib/python3.7/dist-packages (from hickle) (1.19.5)\n",
            "Installing collected packages: hickle\n",
            "Successfully installed hickle-4.0.4\n"
          ],
          "name": "stdout"
        }
      ]
    },
    {
      "cell_type": "code",
      "metadata": {
        "colab": {
          "base_uri": "https://localhost:8080/"
        },
        "id": "DJ3hSdYMfK1w",
        "outputId": "aa55cbdd-1a14-40d7-9dd5-0857c6ba9c40"
      },
      "source": [
        "# import numpy; print(python.__version__)\n",
        "!python --version\n",
        "!python -c \"import numpy; print(numpy.__version__)\"\n",
        "!python -c \"import tensorflow; print(tensorflow.__version__)\"\n",
        "!python -c \"import keras; print(keras.__version__)\"\n",
        "!pip install hickle"
      ],
      "execution_count": null,
      "outputs": [
        {
          "output_type": "stream",
          "text": [
            "Python 3.7.10\n",
            "1.19.5\n",
            "2021-04-05 17:05:03.885553: I tensorflow/stream_executor/platform/default/dso_loader.cc:49] Successfully opened dynamic library libcudart.so.11.0\n",
            "2.4.1\n",
            "2021-04-05 17:05:06.006428: I tensorflow/stream_executor/platform/default/dso_loader.cc:49] Successfully opened dynamic library libcudart.so.11.0\n",
            "2.4.3\n",
            "Collecting hickle\n",
            "\u001b[?25l  Downloading https://files.pythonhosted.org/packages/42/ee/7f442cb653c22f6f1d9de922919be58d81bc8a09ec4f6d886ce447683596/hickle-4.0.4-py3-none-any.whl (49kB)\n",
            "\u001b[K     |████████████████████████████████| 51kB 6.3MB/s \n",
            "\u001b[?25hRequirement already satisfied: dill>=0.3.0 in /usr/local/lib/python3.7/dist-packages (from hickle) (0.3.3)\n",
            "Requirement already satisfied: h5py<3.0.0,>=2.8.0 in /usr/local/lib/python3.7/dist-packages (from hickle) (2.10.0)\n",
            "Requirement already satisfied: six>=1.11.0 in /usr/local/lib/python3.7/dist-packages (from hickle) (1.15.0)\n",
            "Requirement already satisfied: numpy>=1.8 in /usr/local/lib/python3.7/dist-packages (from hickle) (1.19.5)\n",
            "Installing collected packages: hickle\n",
            "Successfully installed hickle-4.0.4\n"
          ],
          "name": "stdout"
        }
      ]
    },
    {
      "cell_type": "markdown",
      "metadata": {
        "id": "SGIXC_sVqhXb"
      },
      "source": [
        "# **Load Model**"
      ]
    },
    {
      "cell_type": "code",
      "metadata": {
        "colab": {
          "base_uri": "https://localhost:8080/"
        },
        "id": "arCObb-YQEEh",
        "outputId": "ec2dc7dd-5516-44f5-824f-822992b8d655"
      },
      "source": [
        ""
      ],
      "execution_count": null,
      "outputs": [
        {
          "output_type": "stream",
          "text": [
            "<string>:6: VisibleDeprecationWarning: Creating an ndarray from ragged nested sequences (which is a list-or-tuple of lists-or-tuples-or ndarrays with different lengths or shapes) is deprecated. If you meant to do this, you must specify 'dtype=object' when creating the ndarray\n",
            "/usr/local/lib/python3.7/dist-packages/tensorflow/python/keras/datasets/imdb.py:159: VisibleDeprecationWarning: Creating an ndarray from ragged nested sequences (which is a list-or-tuple of lists-or-tuples-or ndarrays with different lengths or shapes) is deprecated. If you meant to do this, you must specify 'dtype=object' when creating the ndarray\n",
            "  x_train, y_train = np.array(xs[:idx]), np.array(labels[:idx])\n",
            "/usr/local/lib/python3.7/dist-packages/tensorflow/python/keras/datasets/imdb.py:160: VisibleDeprecationWarning: Creating an ndarray from ragged nested sequences (which is a list-or-tuple of lists-or-tuples-or ndarrays with different lengths or shapes) is deprecated. If you meant to do this, you must specify 'dtype=object' when creating the ndarray\n",
            "  x_test, y_test = np.array(xs[idx:]), np.array(labels[idx:])\n"
          ],
          "name": "stderr"
        },
        {
          "output_type": "stream",
          "text": [
            "Requirement already satisfied: hickle in /usr/local/lib/python3.7/dist-packages (4.0.4)\n",
            "Requirement already satisfied: six>=1.11.0 in /usr/local/lib/python3.7/dist-packages (from hickle) (1.15.0)\n",
            "Requirement already satisfied: h5py<3.0.0,>=2.8.0 in /usr/local/lib/python3.7/dist-packages (from hickle) (2.10.0)\n",
            "Requirement already satisfied: numpy>=1.8 in /usr/local/lib/python3.7/dist-packages (from hickle) (1.19.5)\n",
            "Requirement already satisfied: dill>=0.3.0 in /usr/local/lib/python3.7/dist-packages (from hickle) (0.3.3)\n"
          ],
          "name": "stdout"
        }
      ]
    },
    {
      "cell_type": "code",
      "metadata": {
        "id": "1njWGmay8_J2",
        "colab": {
          "base_uri": "https://localhost:8080/"
        },
        "outputId": "86cbf606-fbca-414c-f711-bca7cb5bfce4"
      },
      "source": [
        "print(reconstructed_model.layers[5].input)"
      ],
      "execution_count": null,
      "outputs": [
        {
          "output_type": "stream",
          "text": [
            "Tensor(\"dense_1/Relu:0\", shape=(None, 500), dtype=float32)\n"
          ],
          "name": "stdout"
        }
      ]
    },
    {
      "cell_type": "code",
      "metadata": {
        "id": "iwGYKEG70tJ1",
        "colab": {
          "base_uri": "https://localhost:8080/"
        },
        "outputId": "55bb1f23-4685-4027-dc04-0e73c1d7e41d"
      },
      "source": [
        "\n",
        "input_layer = reconstructed_model.layers[0]\n",
        "encoder = reconstructed_model.get_layer(\"dense_2\")\n",
        "decoder = reconstructed_model.get_layer(\"decoded_mean\")\n",
        "\n",
        "get_encoder_output = K.function([input_layer.input],[encoder.output])\n",
        "get_encoder_output = get_encoder_output([X_test])[0]\n",
        "\n",
        "get_decoder_output = K.function([encoder.output],[decoder.output])\n",
        "get_decoder_output = get_decoder_output([get_encoder_output])[0] \n",
        "\n",
        "output_shape = get_decoder_output.shape\n",
        "\n",
        "ag_output = np.argmax(get_decoder_output, axis=2)\n",
        "\n",
        "\n",
        "\n",
        "word_index = imdb.get_word_index()\n",
        "# step 2: reverse word index to map integer indexes to their respective words\n",
        "reverse_word_index = dict([(value, key) for (key, value) in word_index.items()])\n",
        "\n",
        "# Step 3: decode the review, mapping integer indices to words\n",
        "#\n",
        "# indices are off by 3 because 0, 1, and 2 are reserverd indices for \"padding\", \"Start of sequence\" and \"unknown\"\n",
        "\n",
        "# decoded_review = ' '.join([reverse_word_index.get(i - 3, '?') for i in train_data[10]])\n",
        "final_output = []\n",
        "for i  in  range(len(ag_output)):\n",
        "    f_output = ' '.join([reverse_word_index.get(i - 3, '?') for i in ag_output[i]])\n",
        "    final_output.append(f_output)\n",
        "\n"
      ],
      "execution_count": null,
      "outputs": [
        {
          "output_type": "stream",
          "text": [
            "=================\n",
            "[0 0 0 0 0 0 0 0 0 0 0 0 0 0 0 0 0 0 0 0 0 0 0 0 0 0 0 0 0 0 0 0 0 0 0 0 0\n",
            " 0 0 0 0 0 0 0 0 0 0 0 0 0 0 0 0 0 0 0 0 0 0 0 0 0 0 0 0 0 0 0 0 0 0 0 0 0\n",
            " 0 0 0 0 0 0 0 0 0 0 0 0 0 0 0 0 0 0 0 0 0 0 0 0 0 0 0 0 0 0 0 0 0 0 0 0 0\n",
            " 0 0 0 0 0 0 0 0 0 0 0 0 0 0 0 0 0 0 0 0 0 0 0 0 0 0 0 0 0 0 0 0 0 0 0 0 0\n",
            " 0 0 0 0 0 0 0 0 0 0 0 0 0 0 0 0 0 0 0 0 0 0 0 0 0 0 0 0 0 0 0 0 0 2 2 2 2\n",
            " 2 2 2 2 2 2 2 2 2 2 2 2 2 2 2 2 2 2 2 2 2 2 2 2 2 2 2 2 2 2 2 2 2 2 2 2 2\n",
            " 2 2 2 2 2 2 2 2 2 2 2 2 2 2 2 2 2 2 2 2 2 2 2 2 2 2 2 2 2 2 2 2 2 2 2 2 2\n",
            " 2 2 2 2 2 2 2 2 2 2 2 2 2 2 2 2 2 2 2 2 2 2 2 2 2 2 2 2 2 2 2 2 2 2 2 2 2\n",
            " 2 2 2 2]\n",
            "? ? ? ? ? ? ? ? ? ? ? ? ? ? ? ? ? ? ? ? ? ? ? ? ? ? ? ? ? ? ? ? ? ? ? ? ? ? ? ? ? ? ? ? ? ? ? ? ? ? ? ? ? ? ? ? ? ? ? ? ? ? ? ? ? ? ? ? ? ? ? ? ? ? ? ? ? ? ? ? ? ? ? ? ? ? ? ? ? ? ? ? ? ? ? ? ? ? ? ? ? ? ? ? ? ? ? ? ? ? ? ? ? ? ? ? ? ? ? ? ? ? ? ? ? ? ? ? ? ? ? ? ? ? ? ? ? ? ? ? ? ? ? ? ? ? ? ? ? ? ? ? ? ? ? ? ? ? ? ? ? ? ? ? ? ? ? ? ? ? ? ? ? ? ? ? ? ? ? ? ? ? ? ? ? ? ? ? ? ? ? ? ? ? ? ? ? ? ? ? ? ? ? ? ? ? ? ? ? ? ? ? ? ? ? ? ? ? ? ? ? ? ? ? ? ? ? ? ? ? ? ? ? ? ? ? ? ? ? ? ? ? ? ? ? ? ? ? ? ? ? ? ? ? ? ? ? ? ? ? ? ? ? ? ? ? ? ? ? ? ? ? ? ? ? ? ? ? ? ? ? ? ? ? ? ? ? ? ? ? ? ? ? ? ? ? ? ? ? ?\n"
          ],
          "name": "stdout"
        }
      ]
    },
    {
      "cell_type": "code",
      "metadata": {
        "colab": {
          "base_uri": "https://localhost:8080/"
        },
        "id": "8WszfEY0qJOS",
        "outputId": "c37309b7-90cf-4e9f-cd80-dc1740e7d775"
      },
      "source": [
        "print(get_encoder_output.shape)\n",
        "print()"
      ],
      "execution_count": null,
      "outputs": [
        {
          "output_type": "stream",
          "text": [
            "(100, 300)\n"
          ],
          "name": "stdout"
        }
      ]
    },
    {
      "cell_type": "code",
      "metadata": {
        "id": "UpBZG3Sx398v"
      },
      "source": [
        "reconstructed_model = keras.models.load_model(\"/content/drive/MyDrive/adverserial/rnn_ae-03.h5\", compile=False)\n",
        "c\n"
      ],
      "execution_count": null,
      "outputs": []
    },
    {
      "cell_type": "code",
      "metadata": {
        "colab": {
          "base_uri": "https://localhost:8080/",
          "height": 500
        },
        "id": "Cc0kwM7XGGKg",
        "outputId": "e4e1a258-4f43-40ec-9c4e-67ecb9a84db5"
      },
      "source": [
        "from keras.datasets import imdb\n",
        "import numpy as np\n",
        "from sklearn.naive_bayes import BernoulliNB\n",
        "from sklearn.model_selection import train_test_split\n",
        "import os\n",
        "from keras.callbacks import ModelCheckpoint\n",
        "from keras.preprocessing.sequence import pad_sequences\n",
        "# from model import VAE\n",
        "\n",
        "from tensorflow.python.framework.ops import disable_eager_execution\n",
        "\n",
        "disable_eager_execution()\n",
        "\n",
        "# import tensorflow as tf\n",
        "# tf.config.experimental_run_functions_eagerly(True)\n",
        "\n",
        "MAX_LENGTH = 300\n",
        "NUM_WORDS = 1000\n",
        "\n",
        "(X_train, y_train), (X_test, y_test) = imdb.load_data()\n",
        "print(\"Number of words:\")\n",
        "print(len(np.unique(np.hstack(X_train))))\n",
        "\n",
        "print(\"Training data\")\n",
        "print(X_train.shape)\n",
        "print(y_train.shape)\n",
        "print(\"Training data\")\n",
        "print(X_test.shape)\n",
        "print(y_test.shape)\n",
        "\n",
        "X_train = pad_sequences(X_train, maxlen=MAX_LENGTH)\n",
        "X_test = pad_sequences(X_test, maxlen=MAX_LENGTH)\n",
        "\n",
        "\n",
        "train_indices = np.random.choice(np.arange(X_train.shape[0]), 2000, replace=False)\n",
        "test_indices = np.random.choice(np.arange(X_test.shape[0]), 1000, replace=False)\n",
        "\n",
        "X_train = X_train[train_indices]\n",
        "y_train = y_train[train_indices]\n",
        "\n",
        "X_test = X_test[test_indices]\n",
        "y_test = y_test[test_indices]\n",
        "\n",
        "\n",
        "\n",
        "temp = np.zeros((X_train.shape[0], MAX_LENGTH, NUM_WORDS))\n",
        "temp[np.expand_dims(np.arange(X_train.shape[0]), axis=0).reshape(X_train.shape[0], 1), np.repeat(np.array([np.arange(MAX_LENGTH)]), X_train.shape[0], axis=0), X_train] = 1\n",
        "\n",
        "X_train_one_hot = temp\n",
        "\n",
        "temp = np.zeros((X_test.shape[0], MAX_LENGTH, NUM_WORDS))\n",
        "temp[np.expand_dims(np.arange(X_test.shape[0]), axis=0).reshape(X_test.shape[0], 1), np.repeat(np.array([np.arange(MAX_LENGTH)]), X_test.shape[0], axis=0), X_test] = 1\n",
        "\n",
        "x_test_one_hot = temp"
      ],
      "execution_count": null,
      "outputs": [
        {
          "output_type": "stream",
          "text": [
            "<string>:6: VisibleDeprecationWarning: Creating an ndarray from ragged nested sequences (which is a list-or-tuple of lists-or-tuples-or ndarrays with different lengths or shapes) is deprecated. If you meant to do this, you must specify 'dtype=object' when creating the ndarray\n",
            "/usr/local/lib/python3.7/dist-packages/tensorflow/python/keras/datasets/imdb.py:159: VisibleDeprecationWarning: Creating an ndarray from ragged nested sequences (which is a list-or-tuple of lists-or-tuples-or ndarrays with different lengths or shapes) is deprecated. If you meant to do this, you must specify 'dtype=object' when creating the ndarray\n",
            "  x_train, y_train = np.array(xs[:idx]), np.array(labels[:idx])\n",
            "/usr/local/lib/python3.7/dist-packages/tensorflow/python/keras/datasets/imdb.py:160: VisibleDeprecationWarning: Creating an ndarray from ragged nested sequences (which is a list-or-tuple of lists-or-tuples-or ndarrays with different lengths or shapes) is deprecated. If you meant to do this, you must specify 'dtype=object' when creating the ndarray\n",
            "  x_test, y_test = np.array(xs[idx:]), np.array(labels[idx:])\n"
          ],
          "name": "stderr"
        },
        {
          "output_type": "stream",
          "text": [
            "Number of words:\n",
            "88585\n",
            "Training data\n",
            "(25000,)\n",
            "(25000,)\n",
            "Training data\n",
            "(25000,)\n",
            "(25000,)\n"
          ],
          "name": "stdout"
        },
        {
          "output_type": "error",
          "ename": "IndexError",
          "evalue": "ignored",
          "traceback": [
            "\u001b[0;31m---------------------------------------------------------------------------\u001b[0m",
            "\u001b[0;31mIndexError\u001b[0m                                Traceback (most recent call last)",
            "\u001b[0;32m<ipython-input-3-cffc134e9f3a>\u001b[0m in \u001b[0;36m<module>\u001b[0;34m()\u001b[0m\n\u001b[1;32m     45\u001b[0m \u001b[0;34m\u001b[0m\u001b[0m\n\u001b[1;32m     46\u001b[0m \u001b[0mtemp\u001b[0m \u001b[0;34m=\u001b[0m \u001b[0mnp\u001b[0m\u001b[0;34m.\u001b[0m\u001b[0mzeros\u001b[0m\u001b[0;34m(\u001b[0m\u001b[0;34m(\u001b[0m\u001b[0mX_train\u001b[0m\u001b[0;34m.\u001b[0m\u001b[0mshape\u001b[0m\u001b[0;34m[\u001b[0m\u001b[0;36m0\u001b[0m\u001b[0;34m]\u001b[0m\u001b[0;34m,\u001b[0m \u001b[0mMAX_LENGTH\u001b[0m\u001b[0;34m,\u001b[0m \u001b[0mNUM_WORDS\u001b[0m\u001b[0;34m)\u001b[0m\u001b[0;34m)\u001b[0m\u001b[0;34m\u001b[0m\u001b[0;34m\u001b[0m\u001b[0m\n\u001b[0;32m---> 47\u001b[0;31m \u001b[0mtemp\u001b[0m\u001b[0;34m[\u001b[0m\u001b[0mnp\u001b[0m\u001b[0;34m.\u001b[0m\u001b[0mexpand_dims\u001b[0m\u001b[0;34m(\u001b[0m\u001b[0mnp\u001b[0m\u001b[0;34m.\u001b[0m\u001b[0marange\u001b[0m\u001b[0;34m(\u001b[0m\u001b[0mX_train\u001b[0m\u001b[0;34m.\u001b[0m\u001b[0mshape\u001b[0m\u001b[0;34m[\u001b[0m\u001b[0;36m0\u001b[0m\u001b[0;34m]\u001b[0m\u001b[0;34m)\u001b[0m\u001b[0;34m,\u001b[0m \u001b[0maxis\u001b[0m\u001b[0;34m=\u001b[0m\u001b[0;36m0\u001b[0m\u001b[0;34m)\u001b[0m\u001b[0;34m.\u001b[0m\u001b[0mreshape\u001b[0m\u001b[0;34m(\u001b[0m\u001b[0mX_train\u001b[0m\u001b[0;34m.\u001b[0m\u001b[0mshape\u001b[0m\u001b[0;34m[\u001b[0m\u001b[0;36m0\u001b[0m\u001b[0;34m]\u001b[0m\u001b[0;34m,\u001b[0m \u001b[0;36m1\u001b[0m\u001b[0;34m)\u001b[0m\u001b[0;34m,\u001b[0m \u001b[0mnp\u001b[0m\u001b[0;34m.\u001b[0m\u001b[0mrepeat\u001b[0m\u001b[0;34m(\u001b[0m\u001b[0mnp\u001b[0m\u001b[0;34m.\u001b[0m\u001b[0marray\u001b[0m\u001b[0;34m(\u001b[0m\u001b[0;34m[\u001b[0m\u001b[0mnp\u001b[0m\u001b[0;34m.\u001b[0m\u001b[0marange\u001b[0m\u001b[0;34m(\u001b[0m\u001b[0mMAX_LENGTH\u001b[0m\u001b[0;34m)\u001b[0m\u001b[0;34m]\u001b[0m\u001b[0;34m)\u001b[0m\u001b[0;34m,\u001b[0m \u001b[0mX_train\u001b[0m\u001b[0;34m.\u001b[0m\u001b[0mshape\u001b[0m\u001b[0;34m[\u001b[0m\u001b[0;36m0\u001b[0m\u001b[0;34m]\u001b[0m\u001b[0;34m,\u001b[0m \u001b[0maxis\u001b[0m\u001b[0;34m=\u001b[0m\u001b[0;36m0\u001b[0m\u001b[0;34m)\u001b[0m\u001b[0;34m,\u001b[0m \u001b[0mX_train\u001b[0m\u001b[0;34m]\u001b[0m \u001b[0;34m=\u001b[0m \u001b[0;36m1\u001b[0m\u001b[0;34m\u001b[0m\u001b[0;34m\u001b[0m\u001b[0m\n\u001b[0m\u001b[1;32m     48\u001b[0m \u001b[0;34m\u001b[0m\u001b[0m\n\u001b[1;32m     49\u001b[0m \u001b[0mX_train_one_hot\u001b[0m \u001b[0;34m=\u001b[0m \u001b[0mtemp\u001b[0m\u001b[0;34m\u001b[0m\u001b[0;34m\u001b[0m\u001b[0m\n",
            "\u001b[0;31mIndexError\u001b[0m: index 1512 is out of bounds for axis 2 with size 1000"
          ]
        }
      ]
    },
    {
      "cell_type": "markdown",
      "metadata": {
        "id": "lQd0FaLKLGU6"
      },
      "source": [
        "# Embedding\n",
        "\n"
      ]
    },
    {
      "cell_type": "code",
      "metadata": {
        "id": "PMkf76mfLLYm"
      },
      "source": [
        "model = keras.Sequential()\n",
        "\n",
        "# the first layer is the embedding layer. \n",
        "# we indicate the number of possible words, \n",
        "# the dimension of the embedding space, \n",
        "# and the maximum size of the text. \n",
        "model.add(keras.layers.Embedding(len(vocabulary), 2, input_length=256))\n",
        "\n",
        "# the output of the embedding is multidimensional, \n",
        "# with shape (256, 2)\n",
        "# for each word, we obtain two values, \n",
        "# the x and y coordinates\n",
        "# we flatten this output to be able to \n",
        "# use it in a dense layer\n",
        "model.add(keras.layers.Flatten())\n",
        "\n",
        "# dropout regularization\n",
        "model.add(keras.layers.Dropout(rate=0.5))\n",
        "\n",
        "# small dense layer. It's role is to analyze \n",
        "# the distribution of points from embedding\n",
        "model.add(keras.layers.Dense(5))\n",
        "\n",
        "# final neuron, with sigmoid activation \n",
        "# for binary classification\n",
        "model.add(keras.layers.Dense(1, activation='sigmoid'))\n",
        "\n",
        "model.summary()"
      ],
      "execution_count": null,
      "outputs": []
    },
    {
      "cell_type": "markdown",
      "metadata": {
        "id": "f0ilQLzeBnBn"
      },
      "source": [
        "# SVM"
      ]
    },
    {
      "cell_type": "code",
      "metadata": {
        "colab": {
          "base_uri": "https://localhost:8080/"
        },
        "id": "htLKDABWBokc",
        "outputId": "bebfa5e1-e8fe-463c-c980-18f109140301"
      },
      "source": [
        "import numpy as np\n",
        "from sklearn.pipeline import make_pipeline\n",
        "from sklearn.preprocessing import StandardScaler\n",
        "from sklearn.svm import SVC\n",
        "clf = make_pipeline(StandardScaler(), SVC(gamma='auto'))\n",
        "clf.fit(X_train, y_train)"
      ],
      "execution_count": null,
      "outputs": [
        {
          "output_type": "execute_result",
          "data": {
            "text/plain": [
              "Pipeline(memory=None,\n",
              "         steps=[('standardscaler',\n",
              "                 StandardScaler(copy=True, with_mean=True, with_std=True)),\n",
              "                ('svc',\n",
              "                 SVC(C=1.0, break_ties=False, cache_size=200, class_weight=None,\n",
              "                     coef0=0.0, decision_function_shape='ovr', degree=3,\n",
              "                     gamma='auto', kernel='rbf', max_iter=-1, probability=False,\n",
              "                     random_state=None, shrinking=True, tol=0.001,\n",
              "                     verbose=False))],\n",
              "         verbose=False)"
            ]
          },
          "metadata": {
            "tags": []
          },
          "execution_count": 8
        }
      ]
    },
    {
      "cell_type": "code",
      "metadata": {
        "colab": {
          "base_uri": "https://localhost:8080/"
        },
        "id": "UYmvGHs0L7HE",
        "outputId": "47d65d48-f462-405e-945e-dadeb2e3d433"
      },
      "source": [
        "# print(clf.predict(X_test))\n",
        "print(clf.score(X_test, y_test))"
      ],
      "execution_count": null,
      "outputs": [
        {
          "output_type": "stream",
          "text": [
            "0.523\n"
          ],
          "name": "stdout"
        }
      ]
    },
    {
      "cell_type": "code",
      "metadata": {
        "id": "AwzDU4_CL0sL"
      },
      "source": [
        "w = clf.coef_[0]\n",
        "print(w)\n",
        "\n",
        "a = -w[0] / w[1]\n",
        "\n",
        "xx = np.linspace(0,12)\n",
        "yy = a * xx - clf.intercept_[0] / w[1]\n",
        "\n",
        "h0 = plt.plot(xx, yy, 'k-', label=\"non weighted div\")\n",
        "\n",
        "plt.scatter(X[:, 0], X[:, 1], c = y)\n",
        "plt.legend()\n",
        "plt.show()"
      ],
      "execution_count": null,
      "outputs": []
    },
    {
      "cell_type": "code",
      "metadata": {
        "id": "-Ik1zk0jPr7q",
        "colab": {
          "base_uri": "https://localhost:8080/"
        },
        "outputId": "4a1bd373-03c8-417e-89a8-c1c40f1807fe"
      },
      "source": [
        "# step 1: load the dictionary mappings from word to integer index\n",
        "\n",
        "from keras.datasets import imdb\n",
        "word_index = imdb.get_word_index() \n",
        "(X_train, y_train), (X_test, y_test) = imdb.load_data()\n",
        "\n",
        "# step 2: reverse word index to map integer indexes to their respective words\n",
        "reverse_word_index = dict([(value, key) for (key, value) in word_index.items()])\n",
        "\n",
        "# Step 3: decode the review, mapping integer indices to words\n",
        "#\n",
        "# indices are off by 3 because 0, 1, and 2 are reserverd indices for \"padding\", \"Start of sequence\" and \"unknown\"\n",
        "\n",
        "# decoded_review = ' '.join([reverse_word_index.get(i - 3, '?') for i in train_data[10]])\n",
        "train_sentences = []\n",
        "test_sentences = []\n",
        "print(X_train.shape)\n",
        "for i  in  range(len(X_train)):\n",
        "  decoded_review = ' '.join([reverse_word_index.get(i - 3, '?') for i in X_train[i]])\n",
        "  train_sentences.append(decoded_review)\n",
        "for i  in  range(len(X_test)):\n",
        "  decoded_review = ' '.join([reverse_word_index.get(i - 3, '?') for i in X_test[i]])\n",
        "  test_sentences.append(decoded_review)\n"
      ],
      "execution_count": null,
      "outputs": [
        {
          "output_type": "stream",
          "text": [
            "<string>:6: VisibleDeprecationWarning: Creating an ndarray from ragged nested sequences (which is a list-or-tuple of lists-or-tuples-or ndarrays with different lengths or shapes) is deprecated. If you meant to do this, you must specify 'dtype=object' when creating the ndarray\n",
            "/usr/local/lib/python3.7/dist-packages/tensorflow/python/keras/datasets/imdb.py:159: VisibleDeprecationWarning: Creating an ndarray from ragged nested sequences (which is a list-or-tuple of lists-or-tuples-or ndarrays with different lengths or shapes) is deprecated. If you meant to do this, you must specify 'dtype=object' when creating the ndarray\n",
            "  x_train, y_train = np.array(xs[:idx]), np.array(labels[:idx])\n",
            "/usr/local/lib/python3.7/dist-packages/tensorflow/python/keras/datasets/imdb.py:160: VisibleDeprecationWarning: Creating an ndarray from ragged nested sequences (which is a list-or-tuple of lists-or-tuples-or ndarrays with different lengths or shapes) is deprecated. If you meant to do this, you must specify 'dtype=object' when creating the ndarray\n",
            "  x_test, y_test = np.array(xs[idx:]), np.array(labels[idx:])\n"
          ],
          "name": "stderr"
        },
        {
          "output_type": "stream",
          "text": [
            "[list([1, 14, 22, 16, 43, 530, 973, 1622, 1385, 65, 458, 4468, 66, 3941, 4, 173, 36, 256, 5, 25, 100, 43, 838, 112, 50, 670, 22665, 9, 35, 480, 284, 5, 150, 4, 172, 112, 167, 21631, 336, 385, 39, 4, 172, 4536, 1111, 17, 546, 38, 13, 447, 4, 192, 50, 16, 6, 147, 2025, 19, 14, 22, 4, 1920, 4613, 469, 4, 22, 71, 87, 12, 16, 43, 530, 38, 76, 15, 13, 1247, 4, 22, 17, 515, 17, 12, 16, 626, 18, 19193, 5, 62, 386, 12, 8, 316, 8, 106, 5, 4, 2223, 5244, 16, 480, 66, 3785, 33, 4, 130, 12, 16, 38, 619, 5, 25, 124, 51, 36, 135, 48, 25, 1415, 33, 6, 22, 12, 215, 28, 77, 52, 5, 14, 407, 16, 82, 10311, 8, 4, 107, 117, 5952, 15, 256, 4, 31050, 7, 3766, 5, 723, 36, 71, 43, 530, 476, 26, 400, 317, 46, 7, 4, 12118, 1029, 13, 104, 88, 4, 381, 15, 297, 98, 32, 2071, 56, 26, 141, 6, 194, 7486, 18, 4, 226, 22, 21, 134, 476, 26, 480, 5, 144, 30, 5535, 18, 51, 36, 28, 224, 92, 25, 104, 4, 226, 65, 16, 38, 1334, 88, 12, 16, 283, 5, 16, 4472, 113, 103, 32, 15, 16, 5345, 19, 178, 32])\n",
            " list([1, 194, 1153, 194, 8255, 78, 228, 5, 6, 1463, 4369, 5012, 134, 26, 4, 715, 8, 118, 1634, 14, 394, 20, 13, 119, 954, 189, 102, 5, 207, 110, 3103, 21, 14, 69, 188, 8, 30, 23, 7, 4, 249, 126, 93, 4, 114, 9, 2300, 1523, 5, 647, 4, 116, 9, 35, 8163, 4, 229, 9, 340, 1322, 4, 118, 9, 4, 130, 4901, 19, 4, 1002, 5, 89, 29, 952, 46, 37, 4, 455, 9, 45, 43, 38, 1543, 1905, 398, 4, 1649, 26, 6853, 5, 163, 11, 3215, 10156, 4, 1153, 9, 194, 775, 7, 8255, 11596, 349, 2637, 148, 605, 15358, 8003, 15, 123, 125, 68, 23141, 6853, 15, 349, 165, 4362, 98, 5, 4, 228, 9, 43, 36893, 1157, 15, 299, 120, 5, 120, 174, 11, 220, 175, 136, 50, 9, 4373, 228, 8255, 5, 25249, 656, 245, 2350, 5, 4, 9837, 131, 152, 491, 18, 46151, 32, 7464, 1212, 14, 9, 6, 371, 78, 22, 625, 64, 1382, 9, 8, 168, 145, 23, 4, 1690, 15, 16, 4, 1355, 5, 28, 6, 52, 154, 462, 33, 89, 78, 285, 16, 145, 95])\n",
            " list([1, 14, 47, 8, 30, 31, 7, 4, 249, 108, 7, 4, 5974, 54, 61, 369, 13, 71, 149, 14, 22, 112, 4, 2401, 311, 12, 16, 3711, 33, 75, 43, 1829, 296, 4, 86, 320, 35, 534, 19, 263, 4821, 1301, 4, 1873, 33, 89, 78, 12, 66, 16, 4, 360, 7, 4, 58, 316, 334, 11, 4, 1716, 43, 645, 662, 8, 257, 85, 1200, 42, 1228, 2578, 83, 68, 3912, 15, 36, 165, 1539, 278, 36, 69, 44076, 780, 8, 106, 14, 6905, 1338, 18, 6, 22, 12, 215, 28, 610, 40, 6, 87, 326, 23, 2300, 21, 23, 22, 12, 272, 40, 57, 31, 11, 4, 22, 47, 6, 2307, 51, 9, 170, 23, 595, 116, 595, 1352, 13, 191, 79, 638, 89, 51428, 14, 9, 8, 106, 607, 624, 35, 534, 6, 227, 7, 129, 113])\n",
            " ...\n",
            " list([1, 11, 6, 230, 245, 6401, 9, 6, 1225, 446, 86527, 45, 2174, 84, 8322, 4007, 21, 4, 912, 84, 14532, 325, 725, 134, 15271, 1715, 84, 5, 36, 28, 57, 1099, 21, 8, 140, 8, 703, 5, 11656, 84, 56, 18, 1644, 14, 9, 31, 7, 4, 9406, 1209, 2295, 26094, 1008, 18, 6, 20, 207, 110, 563, 12, 8, 2901, 17793, 8, 97, 6, 20, 53, 4767, 74, 4, 460, 364, 1273, 29, 270, 11, 960, 108, 45, 40, 29, 2961, 395, 11, 6, 4065, 500, 7, 14492, 89, 364, 70, 29, 140, 4, 64, 4780, 11, 4, 2678, 26, 178, 4, 529, 443, 17793, 5, 27, 710, 117, 74936, 8123, 165, 47, 84, 37, 131, 818, 14, 595, 10, 10, 61, 1242, 1209, 10, 10, 288, 2260, 1702, 34, 2901, 17793, 4, 65, 496, 4, 231, 7, 790, 5, 6, 320, 234, 2766, 234, 1119, 1574, 7, 496, 4, 139, 929, 2901, 17793, 7750, 5, 4241, 18, 4, 8497, 13164, 250, 11, 1818, 7561, 4, 4217, 5408, 747, 1115, 372, 1890, 1006, 541, 9303, 7, 4, 59, 11027, 4, 3586, 22459])\n",
            " list([1, 1446, 7079, 69, 72, 3305, 13, 610, 930, 8, 12, 582, 23, 5, 16, 484, 685, 54, 349, 11, 4120, 2959, 45, 58, 1466, 13, 197, 12, 16, 43, 23, 21469, 5, 62, 30, 145, 402, 11, 4131, 51, 575, 32, 61, 369, 71, 66, 770, 12, 1054, 75, 100, 2198, 8, 4, 105, 37, 69, 147, 712, 75, 3543, 44, 257, 390, 5, 69, 263, 514, 105, 50, 286, 1814, 23, 4, 123, 13, 161, 40, 5, 421, 4, 116, 16, 897, 13, 40691, 40, 319, 5872, 112, 6700, 11, 4803, 121, 25, 70, 3468, 4, 719, 3798, 13, 18, 31, 62, 40, 8, 7200, 4, 29455, 7, 14, 123, 5, 942, 25, 8, 721, 12, 145, 5, 202, 12, 160, 580, 202, 12, 6, 52, 58, 11418, 92, 401, 728, 12, 39, 14, 251, 8, 15, 251, 5, 21213, 12, 38, 84, 80, 124, 12, 9, 23])\n",
            " list([1, 17, 6, 194, 337, 7, 4, 204, 22, 45, 254, 8, 106, 14, 123, 4, 12815, 270, 14437, 5, 16923, 12255, 732, 2098, 101, 405, 39, 14, 1034, 4, 1310, 9, 115, 50, 305, 12, 47, 4, 168, 5, 235, 7, 38, 111, 699, 102, 7, 4, 4039, 9245, 9, 24, 6, 78, 1099, 17, 2345, 16553, 21, 27, 9685, 6139, 5, 29043, 1603, 92, 1183, 4, 1310, 7, 4, 204, 42, 97, 90, 35, 221, 109, 29, 127, 27, 118, 8, 97, 12, 157, 21, 6789, 85010, 9, 6, 66, 78, 1099, 4, 631, 1191, 5, 2642, 272, 191, 1070, 6, 7585, 8, 2197, 70907, 10755, 544, 5, 383, 1271, 848, 1468, 12183, 497, 16876, 8, 1597, 8778, 19280, 21, 60, 27, 239, 9, 43, 8368, 209, 405, 10, 10, 12, 764, 40, 4, 248, 20, 12, 16, 5, 174, 1791, 72, 7, 51, 6, 1739, 22, 4, 204, 131, 9])]\n"
          ],
          "name": "stdout"
        }
      ]
    },
    {
      "cell_type": "code",
      "metadata": {
        "id": "ouH-Lm0kM1tj",
        "colab": {
          "base_uri": "https://localhost:8080/"
        },
        "outputId": "c48a46f3-66ae-4e51-cec9-ac227854269c"
      },
      "source": [
        "import numpy as np\n",
        "from sklearn.datasets import load_files\n",
        "from sklearn.feature_extraction.text import TfidfVectorizer\n",
        "from sklearn.pipeline import Pipeline\n",
        "from sklearn.svm import LinearSVC\n",
        "from sklearn.model_selection import KFold\n",
        "\n",
        "\n",
        "kf = KFold(10)\n",
        "test_accuracy = []\n",
        "train_accuracy = []\n",
        "fold = 0\n",
        "print(len(train_sentences))\n",
        "print(len(test_sentences))\n",
        "X = np.concatenate((train_sentences, test_sentences), axis=0)\n",
        "y = np.concatenate((y_train, y_test), axis=0)\n",
        "print(X.shape)\n",
        "print(X[0])\n",
        "for train_index, test_index in kf.split(X):\n",
        "    X_train, X_test = X[train_index], X[test_index]\n",
        "    y_train, y_test = y[train_index], y[test_index]\n",
        "    \n",
        "    vect = TfidfVectorizer()\n",
        "    X_train_tfidf = vect.fit_transform(X_train)\n",
        "    X_test_tfidf = vect.fit_transform(X_test)\n",
        "        \n",
        "    \n",
        "    text_clf = Pipeline([(\"tfidf\", TfidfVectorizer(sublinear_tf=True)),\n",
        "                    (\"svc\", LinearSVC())])\n",
        "    \n",
        "    text_clf.fit(X_train, y_train)\n",
        "\n",
        "    text_clf.predict(X_test)\n",
        "    train_acc = text_clf.score(X_train, y_train)\n",
        "\n",
        "    # test_acc = text_clf.score(X_test, y_test)\n",
        "    \n",
        "    # test_accuracy.append(test_acc)\n",
        "    train_accuracy.append(train_acc)\n",
        "    # print ('[INFO]\\tFold %d Accuracy: %f' % (fold, test_acc))\n",
        "    print ('[INFO]\\tFold %d Accuracy: %f' % (fold, train_acc))\n",
        "\n",
        "    fold += 1\n",
        "    \n",
        "# avgAccuracy_test = sum(test_accuracy) / fold\n",
        "avgAccuracy_train = sum(train_accuracy) / fold\n",
        "# print ('[INFO]\\tTest_Accuracy: %f' % avgAccuracy_test  ) \n",
        "print ('[INFO]\\tTrain_Accuracy: %f' % avgAccuracy_train  ) "
      ],
      "execution_count": null,
      "outputs": [
        {
          "output_type": "stream",
          "text": [
            "25000\n",
            "25000\n",
            "(50000,)\n",
            "? this film was just brilliant casting location scenery story direction everyone's really suited the part they played and you could just imagine being there robert redford's is an amazing actor and now the same being director norman's father came from the same scottish island as myself so i loved the fact there was a real connection with this film the witty remarks throughout the film were great it was just brilliant so much that i bought the film as soon as it was released for retail and would recommend it to everyone to watch and the fly fishing was amazing really cried at the end it was so sad and you know what they say if you cry at a film it must have been good and this definitely was also congratulations to the two little boy's that played the part's of norman and paul they were just brilliant children are often left out of the praising list i think because the stars that play them all grown up are such a big profile for the whole film but these children are amazing and should be praised for what they have done don't you think the whole story was so lovely because it was true and was someone's life after all that was shared with us all\n",
            "[INFO]\tFold 0 Accuracy: 0.985778\n",
            "[INFO]\tFold 1 Accuracy: 0.985533\n",
            "[INFO]\tFold 2 Accuracy: 0.985356\n",
            "[INFO]\tFold 3 Accuracy: 0.985911\n",
            "[INFO]\tFold 4 Accuracy: 0.985733\n",
            "[INFO]\tFold 5 Accuracy: 0.985822\n",
            "[INFO]\tFold 6 Accuracy: 0.985711\n",
            "[INFO]\tFold 7 Accuracy: 0.985778\n",
            "[INFO]\tFold 8 Accuracy: 0.985822\n",
            "[INFO]\tFold 9 Accuracy: 0.986578\n",
            "[INFO]\tTrain_Accuracy: 0.985802\n"
          ],
          "name": "stdout"
        }
      ]
    },
    {
      "cell_type": "code",
      "metadata": {
        "colab": {
          "base_uri": "https://localhost:8080/",
          "height": 279
        },
        "id": "JdpHtsZatbwg",
        "outputId": "14fdfc92-355d-4bb9-e074-ef95e7601d03"
      },
      "source": [
        "Auto_accuracy = [0.5315, 0.5175, 0.5030, 0.5030, 0.5240, 0.5230, 0.5125, 0.5050, 0.5120, 0.5095]\n",
        "Auto_loss = [0.6912, 0.8198, 0.6973, 0.6938, 0.6967, 0.6936, 0.6953, 0.6933, 0.6933, 0.6931]\n",
        "\n",
        "import numpy as np\n",
        "import matplotlib.pyplot as plt \n",
        "# plotting the points  \n",
        "Epochs = np.arange(start=0, stop=10, step=1)\n",
        "plt.plot(Epochs, Auto_accuracy) \n",
        "\n",
        "  \n",
        "# naming the x axis \n",
        "plt.xlabel('epochs') \n",
        "# naming the y axis \n",
        "plt.ylabel('accuracy') \n",
        "\n",
        "  \n",
        "# function to show the plot \n",
        "plt.show() \n"
      ],
      "execution_count": null,
      "outputs": [
        {
          "output_type": "display_data",
          "data": {
            "image/png": "[encoded data removed]",
            "text/plain": [
              "<Figure size 432x288 with 1 Axes>"
            ]
          },
          "metadata": {
            "tags": [],
            "needs_background": "light"
          }
        }
      ]
    },
    {
      "cell_type": "markdown",
      "metadata": {
        "id": "myvqXLcEf03b"
      },
      "source": [
        "# CNN\n",
        "\n",
        "https://machinelearningmastery.com/predict-sentiment-movie-reviews-using-deep-learning/"
      ]
    },
    {
      "cell_type": "code",
      "metadata": {
        "id": "jRANn4QKect5",
        "colab": {
          "base_uri": "https://localhost:8080/"
        },
        "outputId": "ee0cbee0-5303-4688-b302-0147eb80cd12"
      },
      "source": [
        "from keras.datasets import imdb\n",
        "from keras.models import Sequential\n",
        "from keras.layers import Dense\n",
        "from keras.layers import Flatten\n",
        "from keras.layers.convolutional import Conv1D\n",
        "from keras.layers.convolutional import MaxPooling1D\n",
        "from keras.layers.embeddings import Embedding\n",
        "from keras.preprocessing import sequence\n",
        "# load the dataset but only keep the top n words, zero the rest\n",
        "top_words = 5000\n",
        "(X_train, y_train), (X_test, y_test) = imdb.load_data(num_words=top_words)\n",
        "# pad dataset to a maximum review length in words\n",
        "max_words = 500\n",
        "X_train = sequence.pad_sequences(X_train, maxlen=max_words)\n",
        "X_test = sequence.pad_sequences(X_test, maxlen=max_words)\n",
        "# create the model\n",
        "model = Sequential()\n",
        "model.add(Embedding(top_words, 32, input_length=max_words))\n",
        "model.add(Conv1D(32, 3, padding='same', activation='relu'))\n",
        "model.add(MaxPooling1D())\n",
        "model.add(Flatten())\n",
        "model.add(Dense(250, activation='relu'))\n",
        "model.add(Dense(1, activation='sigmoid'))\n",
        "model.compile(loss='binary_crossentropy', optimizer='adam', metrics=['accuracy'])\n",
        "model.summary()\n",
        "# Fit the model\n",
        "model.fit(X_train, y_train, validation_data=(X_test, y_test), epochs=2, batch_size=128, verbose=2)\n",
        "# Final evaluation of the model\n",
        "scores = model.evaluate(X_test, y_test, verbose=0)\n",
        "print(\"Accuracy: %.2f%%\" % (scores[1]*100))"
      ],
      "execution_count": null,
      "outputs": [
        {
          "output_type": "stream",
          "text": [
            "<string>:6: VisibleDeprecationWarning: Creating an ndarray from ragged nested sequences (which is a list-or-tuple of lists-or-tuples-or ndarrays with different lengths or shapes) is deprecated. If you meant to do this, you must specify 'dtype=object' when creating the ndarray\n",
            "/usr/local/lib/python3.7/dist-packages/tensorflow/python/keras/datasets/imdb.py:159: VisibleDeprecationWarning: Creating an ndarray from ragged nested sequences (which is a list-or-tuple of lists-or-tuples-or ndarrays with different lengths or shapes) is deprecated. If you meant to do this, you must specify 'dtype=object' when creating the ndarray\n",
            "  x_train, y_train = np.array(xs[:idx]), np.array(labels[:idx])\n",
            "/usr/local/lib/python3.7/dist-packages/tensorflow/python/keras/datasets/imdb.py:160: VisibleDeprecationWarning: Creating an ndarray from ragged nested sequences (which is a list-or-tuple of lists-or-tuples-or ndarrays with different lengths or shapes) is deprecated. If you meant to do this, you must specify 'dtype=object' when creating the ndarray\n",
            "  x_test, y_test = np.array(xs[idx:]), np.array(labels[idx:])\n"
          ],
          "name": "stderr"
        },
        {
          "output_type": "stream",
          "text": [
            "Model: \"sequential_3\"\n",
            "_________________________________________________________________\n",
            "Layer (type)                 Output Shape              Param #   \n",
            "=================================================================\n",
            "embedding_3 (Embedding)      (None, 500, 32)           160000    \n",
            "_________________________________________________________________\n",
            "conv1d_3 (Conv1D)            (None, 500, 32)           3104      \n",
            "_________________________________________________________________\n",
            "max_pooling1d_3 (MaxPooling1 (None, 250, 32)           0         \n",
            "_________________________________________________________________\n",
            "flatten_3 (Flatten)          (None, 8000)              0         \n",
            "_________________________________________________________________\n",
            "dense_6 (Dense)              (None, 250)               2000250   \n",
            "_________________________________________________________________\n",
            "dense_7 (Dense)              (None, 1)                 251       \n",
            "=================================================================\n",
            "Total params: 2,163,605\n",
            "Trainable params: 2,163,605\n",
            "Non-trainable params: 0\n",
            "_________________________________________________________________\n",
            "Epoch 1/2\n",
            "196/196 - 3s - loss: 0.4210 - accuracy: 0.7835 - val_loss: 0.2872 - val_accuracy: 0.8802\n",
            "Epoch 2/2\n",
            "196/196 - 3s - loss: 0.2073 - accuracy: 0.9194 - val_loss: 0.2738 - val_accuracy: 0.8850\n",
            "Accuracy: 88.50%\n"
          ],
          "name": "stdout"
        }
      ]
    },
    {
      "cell_type": "markdown",
      "metadata": {
        "id": "xwCKbPkDnG42"
      },
      "source": [
        "# MLP"
      ]
    },
    {
      "cell_type": "code",
      "metadata": {
        "colab": {
          "base_uri": "https://localhost:8080/"
        },
        "id": "G6iKvVCTnJeQ",
        "outputId": "4b96b254-a81c-4717-bbdc-cb5c937ac965"
      },
      "source": [
        "\n",
        "# MLP for the IMDB problem\n",
        "from keras.datasets import imdb\n",
        "from keras.models import Sequential\n",
        "from keras.layers import Dense\n",
        "from keras.layers import Flatten\n",
        "from keras.layers.embeddings import Embedding\n",
        "from keras.preprocessing import sequence\n",
        "# load the dataset but only keep the top n words, zero the rest\n",
        "top_words = 5000\n",
        "(X_train, y_train), (X_test, y_test) = imdb.load_data(num_words=top_words)\n",
        "max_words = 500\n",
        "X_train = sequence.pad_sequences(X_train, maxlen=max_words)\n",
        "X_test = sequence.pad_sequences(X_test, maxlen=max_words)\n",
        "# create the model\n",
        "model = Sequential()\n",
        "model.add(Embedding(top_words, 32, input_length=max_words))\n",
        "model.add(Flatten())\n",
        "model.add(Dense(250, activation='relu'))\n",
        "model.add(Dense(1, activation='sigmoid'))\n",
        "model.compile(loss='binary_crossentropy', optimizer='adam', metrics=['accuracy'])\n",
        "model.summary()\n",
        "# Fit the model\n",
        "model.fit(X_train, y_train, validation_data=(X_test, y_test), epochs=2, batch_size=128, verbose=2)\n",
        "# Final evaluation of the model\n",
        "scores = model.evaluate(X_test, y_test, verbose=0)\n",
        "print(\"Accuracy: %.2f%%\" % (scores[1]*100))"
      ],
      "execution_count": null,
      "outputs": [
        {
          "output_type": "stream",
          "text": [
            "Downloading data from https://storage.googleapis.com/tensorflow/tf-keras-datasets/imdb.npz\n",
            "17465344/17464789 [==============================] - 1s 0us/step\n"
          ],
          "name": "stdout"
        },
        {
          "output_type": "stream",
          "text": [
            "<string>:6: VisibleDeprecationWarning: Creating an ndarray from ragged nested sequences (which is a list-or-tuple of lists-or-tuples-or ndarrays with different lengths or shapes) is deprecated. If you meant to do this, you must specify 'dtype=object' when creating the ndarray\n",
            "/usr/local/lib/python3.7/dist-packages/tensorflow/python/keras/datasets/imdb.py:159: VisibleDeprecationWarning: Creating an ndarray from ragged nested sequences (which is a list-or-tuple of lists-or-tuples-or ndarrays with different lengths or shapes) is deprecated. If you meant to do this, you must specify 'dtype=object' when creating the ndarray\n",
            "  x_train, y_train = np.array(xs[:idx]), np.array(labels[:idx])\n",
            "/usr/local/lib/python3.7/dist-packages/tensorflow/python/keras/datasets/imdb.py:160: VisibleDeprecationWarning: Creating an ndarray from ragged nested sequences (which is a list-or-tuple of lists-or-tuples-or ndarrays with different lengths or shapes) is deprecated. If you meant to do this, you must specify 'dtype=object' when creating the ndarray\n",
            "  x_test, y_test = np.array(xs[idx:]), np.array(labels[idx:])\n"
          ],
          "name": "stderr"
        },
        {
          "output_type": "stream",
          "text": [
            "Model: \"sequential\"\n",
            "_________________________________________________________________\n",
            "Layer (type)                 Output Shape              Param #   \n",
            "=================================================================\n",
            "embedding (Embedding)        (None, 500, 32)           160000    \n",
            "_________________________________________________________________\n",
            "flatten (Flatten)            (None, 16000)             0         \n",
            "_________________________________________________________________\n",
            "dense (Dense)                (None, 250)               4000250   \n",
            "_________________________________________________________________\n",
            "dense_1 (Dense)              (None, 1)                 251       \n",
            "=================================================================\n",
            "Total params: 4,160,501\n",
            "Trainable params: 4,160,501\n",
            "Non-trainable params: 0\n",
            "_________________________________________________________________\n",
            "Epoch 1/2\n",
            "196/196 - 6s - loss: 0.5057 - accuracy: 0.7216 - val_loss: 0.3115 - val_accuracy: 0.8667\n",
            "Epoch 2/2\n",
            "196/196 - 2s - loss: 0.1943 - accuracy: 0.9273 - val_loss: 0.3060 - val_accuracy: 0.8731\n",
            "Accuracy: 87.31%\n"
          ],
          "name": "stdout"
        }
      ]
    },
    {
      "cell_type": "markdown",
      "metadata": {
        "id": "oKbKF400i76J"
      },
      "source": [
        "# TEST MODEL: "
      ]
    },
    {
      "cell_type": "code",
      "metadata": {
        "colab": {
          "base_uri": "https://localhost:8080/"
        },
        "id": "ItEVYG3eigMd",
        "outputId": "c31457ec-3833-40cc-b673-e9f4a58a9115"
      },
      "source": [
        "%pip install hickle\n",
        "import keras\n",
        "import hickle as hkl\n",
        "from keras.datasets import imdb\n",
        "from keras import objectives, backend as K\n",
        "import numpy as np\n",
        "from keras.preprocessing.sequence import pad_sequences\n",
        "\n",
        "\n",
        "MAX_LENGTH = 200\n",
        "NUM_WORDS = 2000\n",
        "\n",
        "(X_train, y_train), (X_test, y_test) = imdb.load_data(num_words=NUM_WORDS)\n",
        "\n",
        "import hickle as hkl\n",
        "\n",
        "# data = {'xtrain': X_train, 'xtest': X_test,'ytrain': y_train,'ytest':y_test}\n",
        "# hkl.dump(data,'data.hkl')\n",
        "# array_hkl = hkl.load('data.hkl')\n",
        "# X_train = array_hkl['xtrain']\n",
        "# X_test = array_hkl['xtest']\n",
        "# y_train = array_hkl['ytrain']\n",
        "# y_test = array_hkl['ytest']\n",
        "\n",
        "# X_train = pad_sequences(X_train, maxlen=MAX_LENGTH)\n",
        "\n",
        "X_test = pad_sequences(X_test, maxlen=MAX_LENGTH)\n",
        "X_test = X_test[:10000]\n",
        "y_test = y_test[:10000]\n",
        "# train_indices = np.random.choice(np.arange(X_train.shape[0]), 20000, replace=False)\n",
        "# test_indices = np.random.choice(np.arange(X_test.shape[0]), 3000, replace=False)\n",
        "\n",
        "# X_train = X_train[train_indices]\n",
        "# y_train = y_train[train_indices]\n",
        "\n",
        "# X_test = X_test[test_indices]\n",
        "# y_test = y_test[test_indices]\n",
        "\n",
        "data = {'xtest': X_test, 'ytest':y_test}\n",
        "hkl.dump(data,'data.hkl')"
      ],
      "execution_count": null,
      "outputs": [
        {
          "output_type": "stream",
          "text": [
            "Requirement already satisfied: hickle in /usr/local/lib/python3.7/dist-packages (4.0.4)\n",
            "Requirement already satisfied: dill>=0.3.0 in /usr/local/lib/python3.7/dist-packages (from hickle) (0.3.3)\n",
            "Requirement already satisfied: numpy>=1.8 in /usr/local/lib/python3.7/dist-packages (from hickle) (1.19.5)\n",
            "Requirement already satisfied: six>=1.11.0 in /usr/local/lib/python3.7/dist-packages (from hickle) (1.15.0)\n",
            "Requirement already satisfied: h5py<3.0.0,>=2.8.0 in /usr/local/lib/python3.7/dist-packages (from hickle) (2.10.0)\n"
          ],
          "name": "stdout"
        },
        {
          "output_type": "stream",
          "text": [
            "<string>:6: VisibleDeprecationWarning: Creating an ndarray from ragged nested sequences (which is a list-or-tuple of lists-or-tuples-or ndarrays with different lengths or shapes) is deprecated. If you meant to do this, you must specify 'dtype=object' when creating the ndarray\n",
            "/usr/local/lib/python3.7/dist-packages/tensorflow/python/keras/datasets/imdb.py:159: VisibleDeprecationWarning: Creating an ndarray from ragged nested sequences (which is a list-or-tuple of lists-or-tuples-or ndarrays with different lengths or shapes) is deprecated. If you meant to do this, you must specify 'dtype=object' when creating the ndarray\n",
            "  x_train, y_train = np.array(xs[:idx]), np.array(labels[:idx])\n",
            "/usr/local/lib/python3.7/dist-packages/tensorflow/python/keras/datasets/imdb.py:160: VisibleDeprecationWarning: Creating an ndarray from ragged nested sequences (which is a list-or-tuple of lists-or-tuples-or ndarrays with different lengths or shapes) is deprecated. If you meant to do this, you must specify 'dtype=object' when creating the ndarray\n",
            "  x_test, y_test = np.array(xs[idx:]), np.array(labels[idx:])\n"
          ],
          "name": "stderr"
        }
      ]
    },
    {
      "cell_type": "markdown",
      "metadata": {
        "id": "V54LvYC_lq8B"
      },
      "source": [
        "# LIME"
      ]
    },
    {
      "cell_type": "code",
      "metadata": {
        "colab": {
          "base_uri": "https://localhost:8080/",
          "height": 967
        },
        "id": "2uDkri1e1ne2",
        "outputId": "23c8c9dd-65cd-4315-d0a8-f1735e28e57f"
      },
      "source": [
        "%pip install lime\n",
        "from lime import lime_text\n",
        "from sklearn.pipeline import make_pipeline\n",
        "from lime.lime_text import LimeTextExplainer\n",
        "import pickle\n",
        "from sklearn.feature_extraction.text import CountVectorizer\n",
        "%pip install hickle\n",
        "import keras\n",
        "import hickle as hkl\n",
        "from keras.datasets import imdb\n",
        "from keras import objectives, backend as K\n",
        "import numpy as np\n",
        "from keras.preprocessing.sequence import pad_sequences\n",
        "\n",
        "import numpy as np\n",
        "import time\n",
        "import random\n",
        "import os\n",
        "import matplotlib.pyplot as plt\n",
        "import sklearn\n",
        "from sklearn.feature_extraction.text import CountVectorizer\n",
        "from sklearn.naive_bayes import BernoulliNB\n",
        "import lime\n",
        "import lime.lime_tabular\n",
        "from lime.lime_text import LimeTextExplainer\n",
        "from sklearn.pipeline import make_pipeline\n",
        "from sklearn.metrics import accuracy_score\n",
        "\n",
        "\n",
        "filename = '/content/drive/MyDrive/MLprj/naive_model.sav'\n",
        "\n",
        "def get_naive_model():\n",
        "    # load the model from disk\n",
        "    loaded_model = pickle.load(open(filename, 'rb'))\n",
        "    return loaded_model\n",
        "\n",
        "clf = get_naive_model()\n",
        "\n",
        "\n",
        "vectorizer = CountVectorizer(\n",
        "        lowercase=True, stop_words=None,\n",
        "        max_df=1.0, min_df=1, max_features=None,  binary=True\n",
        "      )\n",
        "\n",
        "# X = vectorizer.fit_transform(niave_total_data).toarray()\n",
        "\n",
        "# X_train = X[0:10000, :]\n",
        "# X_test = X[10000:, :]\n",
        "\n",
        "# feature_names = vectorizer.get_feature_names()\n",
        "\n",
        "\n",
        "# c = make_pipeline(vectorize_sequences, clf)\n",
        "\n",
        "explainer = LimeTextExplainer(class_names=[ 'negative', 'positive'])\n",
        "\n",
        "# original = \"well sorry for the mistake on the one line ? run people run this movie is an horror imagine gary ? in another low budget movie with an incredibly bad ? here's that a nightmare no well yes it is ? run i give it out of\"\n",
        "\n",
        "# noisy = \"well sorry for the mistake on the one line ? runs people run this movie is an horror imagine gary you in person low budget movie led an incredibly bad ? here's that a nightmare did well yes the is ? run i give it out of\"\n",
        "\n",
        "\n",
        "\n",
        "vectorizer = CountVectorizer(\n",
        "        lowercase=True, stop_words=None,\n",
        "        max_df=1.0, min_df=1, max_features=None,  binary=True\n",
        "      )\n",
        "\n",
        "(train_data, train_labels), (test_data, test_labels) = imdb.load_data(num_words = 2000) \n",
        "word_index = imdb.get_word_index()\n",
        "reverse_word_index = dict([(value, key) for (key, value) in word_index.items()])\n",
        "\n",
        "gan_test_data = []\n",
        "Y_final = []\n",
        "for i  in  range(len(train_data)):\n",
        "     decoded_review = \"\"\n",
        "     for j in train_data[i]:\n",
        "        decoded_review += reverse_word_index.get(j - 3, '?') + \" \"\n",
        "     gan_test_data.append(decoded_review)\n",
        "     Y_final.append(train_labels[i])\n",
        "for i  in  range(len(test_data[10000:])):\n",
        "     decoded_review = \"\"\n",
        "     for j in train_data[i]:\n",
        "        decoded_review += reverse_word_index.get(j - 3, '?') + \" \"\n",
        "     gan_test_data.append(decoded_review)\n",
        "     Y_final.append(test_labels[i])\n",
        "\n",
        "for i in range(len(gan_test_data)): \n",
        "    if \"well sorry for the mistake on the one line\" in gan_test_data[i]: \n",
        "        print(Y_final[i])\n",
        "        print(gan_test_data[i])\n",
        "\n",
        "X_final = vectorizer.fit_transform(gan_test_data).toarray()\n",
        "feature_names = vectorizer.get_feature_names()\n",
        "\n",
        "\n",
        "clf = BernoulliNB(binarize=0.0)\n",
        "\n",
        "clf.fit(X_final, Y_final)\n",
        "\n",
        "\n",
        "c = make_pipeline(vectorizer, clf)\n",
        "\n",
        "\n",
        "\n",
        "# original = \"well sorry for the mistake on the one line ? run people run this movie is an horror imagine gary ? in another low budget movie with an incredibly bad ? here's that a nightmare no well yes it is ? run i give it out of\"\n",
        "\n",
        "# noisy = \"well sorry for the mistake on the one line ? runs people run this movie is an horror imagine gary you in person low budget movie led an incredibly bad ? here's that a nightmare did well yes the is ? run i give it out of\"\n",
        "\n",
        "# original = \"original beautiful movie the acting is great the ? ? ? are superb paris at its best but then the real paris not the famous ? and the music will do also a brilliant very ? which i just very much love br br the best french movie here's seen and french cinema is very good\"\n",
        "# noisy = \"original inspired movie one acting the battle battle fat ? ? are excellent paris at its best but finally the real paris not one famous black and normal music will do by a inspired extremely ? is i just though much inspired br br one best french movie here's seen and french cinema is very success\"\n",
        "\n",
        "\n",
        "original = \"i see ? of student films this is ? james ? is a fantastic director he moves the camera tells the story and uses music in a way that is far ? for his years no wonder he got a feature from this film br br\"\n",
        "noisy = \"i see ? of teacher movies the is ? c ? is a fantastic director gets makes normal camera tells the story and uses music normal a way can is situations fat for his years no wonder he getting a feature from makes film br br\"\n",
        "\n",
        "original = \"? ? ? ? ? ? ? ? ? ? ? ? ? ? ? ? ? ? ? ? ? ? ? ? ? ? ? ? ? ? ? ? ? ? ? ? ? ? ? ? ? ? ? ? ? ? ? ? ? ? ? ? ? ? ? ? ? ? ? ? ? ? ? ? ? ? ? ? ? ? ? ? ? ? ? ? ? ? ? ? ? ? ? ? ? ? ? ? ? ? ? ? ? ? ? ? ? ? ? ? ? ? ? ? ? ? ? ? ? ? ? ? ? ? ? ? ? ? ? ? ? ? ? ? ? ? ? ? ? ? ? ? ? ? is great you totally believe his character and here's scary as hell i spent half the movie ? my eyes the other half on the edge of my ? here's cool to see something this ? and ? that here's all blood and ? but it did give me bad dreams br br basically this is a great movie see it the first chance you get\"\n",
        "noisy =\"? ? ? ? ? ? ? ? ? ? ? ? ? ? ? ? ? ? ? ? ? ? ? ? ? ? ? ? ? ? ? ? ? ? ? ? ? ? ? ? ? ? ? ? ? ? ? ? ? ? ? ? ? ? ? ? ? ? ? ? ? ? ? ? ? ? ? ? ? ? ? ? ? ? ? ? ? ? ? ? ? ? ? ? ? ? ? ? ? ? ? ? ? ? ? ? ? ? ? ? ? ? ? ? ? ? ? ? ? ? ? ? ? ? ? ? ? ? ? ? ? ? ? ? ? ? ? ? ? ? ? ? ? ? the battle you totally find his character led fat ugly can hell you battle half the hollywood america his fat the situations led began normal edge of his black fat fat can see something battle ? food you that delivers all black battle ? but fat did give you battle dreams fat br basically can is battle battle movie see the normal first chance ? get\"\n",
        "\n",
        "original = \"? ? ? ? ? ? ? ? ? ? ? ? ? ? ? ? ? ? ? ? ? ? ? ? ? ? ? ? ? ? ? ? ? ? ? ? ? ? ? ? ? ? ? ? ? ? ? ? ? ? ? ? ? ? ? ? ? ? ? ? ? ? ? ? ? ? ? ? ? ? ? ? ? ? ? ? ? ? ? ? ? ? ? ? ? ? ? ? ? ? ? ? ? ? ? ? ? ? ? ? ? ? ? ? ? ? ? ? ? ? ? ? ? ? ? ? ? ? ? ? ? ? ? ? ? ? ? ? ? ? ? ? ? ? ? ? ? ? this little two person movie is actually much bigger than it looks it has so many ? here's watched it over and over and always pick up on something new i am ? at the depth of the acting and i feel if this movie had gotten ? release that there would be no question that alan ? is a major star\"\n",
        "noisy = \"? ? ? ? ? ? ? ? ? ? ? ? ? ? ? ? ? ? ? ? ? ? ? ? ? ? ? ? ? ? ? ? ? ? ? ? ? ? ? ? ? ? ? ? ? ? ? ? ? ? ? ? ? ? ? ? ? ? ? ? ? ? ? ? ? ? ? ? ? ? ? ? ? ? ? ? ? ? ? ? ? ? ? ? ? ? ? ? ? ? ? ? ? ? ? ? ? ? ? ? ? ? ? ? ? ? ? ? ? ? ? ? ? ? ? ? ? ? ? ? ? ? ? ? ? ? ? ? ? ? ? ? ? ? ? ? ? ? can little two person soap is can much situations battle it looks the led so situations ? fat watched the over and over by never fat bed hour what new never am you at the depth the the acted food i situations if this movie had getting you release that there if though battle question that alan you is a major star\"\n",
        "\n",
        "original = \"? ? ? ? ? ? ? ? ? ? ? ? ? ? ? ? ? ? ? ? ? ? ? ? ? ? ? ? ? ? ? ? ? ? ? ? ? ? ? ? ? ? ? ? ? ? ? ? ? ? ? ? ? ? ? ? ? ? ? ? ? ? ? ? ? ? ? ? ? ? ? ? ? ? ? ? ? ? ? ? ? ? ? ? ? ? ? ? ? ? ? ? ? ? ? ? ? ? ? ? ? ? ? ? ? ? ? ? ? ? ? ? ? ? ? ? ? ? ? ? ? ? ? ? ? ? ? ? ? ? ? ? ? ? ? ? ? ? ? ? ? ? ? ? ? ? ? ? ? ? ? ? ? ? ? ? ? ? ? ? ? ? ? funny yes a ? classic to watch ? turn green is always a treat and it brings us back to the days when cartoon ? was ? and ? for the adult mind br br loved it\"\n",
        "noisy = \"? ? ? ? ? ? ? ? ? ? ? ? ? ? ? ? ? ? ? ? ? ? ? ? ? ? ? ? ? ? ? ? ? ? ? ? ? ? ? ? ? ? ? ? ? ? ? ? ? ? ? ? ? ? ? ? ? ? ? ? ? ? ? ? ? ? ? ? ? ? ? ? ? ? ? ? ? ? ? ? ? ? ? ? ? ? ? ? ? ? ? ? ? ? ? ? ? ? ? ? ? ? ? ? ? ? ? ? ? ? ? ? ? ? ? ? ? ? ? ? ? ? ? ? ? ? ? ? ? ? ? ? ? ? ? ? ? ? ? ? ? ? ? ? ? ? ? ? ? ? ? ? ? ? ? ? ? ? ? ? ? ? ? funny yes a you classic to watch ? turn green is always a treat and it brings us back to the days when cartoon ? was ? and ? for the adult mind br br loved it\"\n",
        "\n",
        "original = \"? ? ? ? ? ? ? ? ? ? ? ? ? ? ? ? ? ? ? ? ? ? ? ? ? ? ? ? ? ? ? ? ? ? ? ? ? ? ? ? ? ? ? ? ? ? ? ? ? ? ? ? ? ? ? ? ? ? ? ? this is the best movie i have ever seen and i love it very much is is so sad and loving i could watch this movie over and over again when i first seen it on disney channel i was like i would love to see this movie again i would love to watch this movie ? and i recommend it to anyone this is really a good movie to anyone who has not seen this movie and is thinking about it they better go and see it because it is really good i love the part when the boy found out about the girl and from then on i was just all into this movie if i could watch two movies ? it would be this one and ? those are my two favorite movies i really love them\"\n",
        "noisy = \"? ? ? ? ? ? ? ? ? ? ? ? ? ? ? ? ? ? ? ? ? ? ? ? ? ? ? ? ? ? ? ? ? ? ? ? ? ? ? ? ? ? ? ? ? ? ? ? ? ? ? ? ? ? ? ? ? ? ? ? the is the best movie i have ever seen by i love can view much part is changed sad led loving i could america the hollywood over and over again when i first seen the on disney channel i was like i would love the see the movie again i would love to watch this hollywood ? and i recommend it the anyone this is really a good movie to anyone who has not seen the movie and part thinking about it they better go and see it though it the think good i love the normal came the boy found out about the girl and from finally on i was just all into this movie if i could watch two hollywood ? it if be this the well black those are my two favorite films i really love them\"\n",
        "\n",
        "original = \"? ? ? ? ? ? ? ? ? ? ? ? ? ? ? ? ? ? ? ? ? ? ? ? ? ? ? ? ? ? ? ? ? ? ? ? ? ? ? ? ? ? ? ? ? ? ? ? ? ? ? ? ? ? ? ? ? ? ? ? ? ? ? ? ? ? ? ? ? ? ? i watched this film many years ago on tv and ? it from there i could never really understand why my own mother was ? watching it it was because i was so young at the time i have just sat and watched this film again i now have 2 children of my own and i had to try and fight the tears back but that here's happen i was ? through most of the film it just to show how different you feel when you have children of your own such an amazing family such a heart ? film truly wonderful someone has said about 8 still living any more news are you all still in touch i would love to know ? by the film all over\"\n",
        "noisy = \"? ? ? ? ? ? ? ? ? ? ? ? ? ? ? ? ? ? ? ? ? ? ? ? ? ? ? ? ? ? ? ? ? ? ? ? ? ? ? ? ? ? ? ? ? ? ? ? ? ? ? ? ? ? ? ? ? ? ? ? ? ? ? ? ? ? ? ? ? ? ? i watching the film many years ago on television and ? it began there never could never really understand why my own mother was ? watching it the was because i was so young at the time i have just sat and watched this film again i now have 3 children of my own and i had to try and bring one tears back came that here's happen i was ? through most of the film it came to show what different you feel when you have children of your own created an amazing family such the heart ? film truly wonderful someone problem said about 9 still living any led news are you all still in touch never would love to know ? by the film all over\"\n",
        "\n",
        "original = \"in my opinion this is the best ? stone flick probably more because of ? than anything else ? stuff full of ? from the first moment to its dark ending\"\n",
        "noisy = \"in my opinion this is one best ? stone flick probably more battle of ? than anything else ? stuff the of ? from the first moment to its dark ending\"\n",
        "\n",
        "original = \"? ? ? ? ? ? ? ? ? ? ? ? ? ? ? ? ? ? ? ? ? ? ? ? ? ? ? ? ? ? ? ? ? ? ? ? ? ? ? ? ? ? ? ? ? ? ? ? ? ? ? ? ? ? ? ? ? ? ? ? ? ? ? ? ? ? ? ? ? ? ? ? ? ? ? ? ? ? ? ? ? ? ? ? ? ? ? ? ? ? ? ? ? ? ? ? ? ? ? ? ? ? ? ? ? ? ? ? ? ? ? ? ? ? ? ? ? ? ? ? ? ? ? ? ? ? ? ? ? ? ? ? ? ? ? ? ? ? ? ? ? ? ? ? original beautiful movie the acting is great the ? ? ? are superb paris at its best but then the real paris not the famous ? and the music will do also a brilliant very ? which i just very much love br br the best french movie here's seen and french cinema is very good\"\n",
        "noisy = \"? ? ? ? ? ? ? ? ? ? ? ? ? ? ? ? ? ? ? ? ? ? ? ? ? ? ? ? ? ? ? ? ? ? ? ? ? ? ? ? ? ? ? ? ? ? ? ? ? ? ? ? ? ? ? ? ? ? ? ? ? ? ? ? ? ? ? ? ? ? ? ? ? ? ? ? ? ? ? ? ? ? ? ? ? ? ? ? ? ? ? ? ? ? ? ? ? ? ? ? ? ? ? ? ? ? ? ? ? ? ? ? ? ? ? ? ? ? ? ? ? ? ? ? ? ? ? ? ? ? ? ? ? ? ? ? ? ? ? ? ? ? ? ? original beautiful movie one acting is battle the ? ? you are superb paris at its best but finally the real paris can the famous ? and the music will do also a brilliant very ? which never just very much love br br one won french movie here's seen and french cinema is very good\"\n",
        "\n",
        "original = \"? ? ? ? ? ? ? ? ? ? ? ? ? ? ? ? ? ? ? ? ? ? ? ? ? ? ? ? ? ? ? ? ? ? ? ? ? ? ? ? ? ? ? ? ? ? ? ? ? ? ? ? ? ? ? ? ? ? ? ? ? ? ? ? ? ? ? ? ? ? ? ? ? ? ? ? ? ? ? ? ? ? ? ? ? ? ? ? ? ? ? ? ? ? ? ? ? ? ? ? ? ? ? ? ? ? ? ? ? ? ? ? ? ? ? ? ? ? ? ? ? ? this is one of the most touching films i had ever watched no movie has ? me the way this one did this is a great film and you have to see for yourself here's normally ? with these ? story movies but this one did it for me i was in tears at the end here's ? for the friendship that is portrayed in this movie if i can give this movie a ? stars i could\"\n",
        "noisy = \"? ? ? ? ? ? ? ? ? ? ? ? ? ? ? ? ? ? ? ? ? ? ? ? ? ? ? ? ? ? ? ? ? ? ? ? ? ? ? ? ? ? ? ? ? ? ? ? ? ? ? ? ? ? ? ? ? ? ? ? ? ? ? ? ? ? ? ? ? ? ? ? ? ? ? ? ? ? ? ? ? ? ? ? ? ? ? ? ? ? ? ? ? ? ? ? ? ? ? ? ? ? ? ? ? ? ? ? ? ? ? ? ? ? ? ? ? ? ? ? ? ? this is one of the most touching films i without ever watched no hollywood has ? me one way this one did this is a great film and ? have to see for yourself delivers normally ? came these ? story movies but this one did it for me i was in tears at one end here's ? for the friendship that is portrayed in the movie did i can give this movie a ? stars i could\"\n",
        "\n",
        "\n",
        "original = \"can to some people look a bit long but here's one of rare real adventure film it could be compare to with a bit of ? you must see it\"\n",
        "noisy = \"can to some people look a bit long but here's one the rare real adventure film it could be compare to with a bit natural ? you can see it\"\n",
        "\n",
        "original = \"? ? ? ? ? ? ? ? ? ? ? ? ? ? ? ? ? ? ? ? ? ? ? ? ? ? ? ? ? ? ? ? ? ? ? ? ? ? ? ? ? ? ? ? ? ? ? ? ? ? ? ? ? ? ? ? ? ? ? ? ? ? ? ? ? ? ? ? ? ? ? ? ? ? ? ? ? ? ? ? ? ? ? ? ? ? ? ? ? ? ? ? ? ? ? ? ? ? ? ? ? ? ? ? ? ? ? ? ? ? ? ? ? ? ? ? ? ? ? ? ? ? ? ? ? ? this was the very first ? fu movie that i have ever seen the ? is not the greatest but ? better than some that i had seen the plot is much better than some that are made today it is ? at times but that is what gives it that special ? academy award material is it not but if you like to watch fights and a decent story this is for you\"\n",
        "noisy = \"? ? ? ? ? ? ? ? ? ? ? ? ? ? ? ? ? ? ? ? ? ? ? ? ? ? ? ? ? ? ? ? ? ? ? ? ? ? ? ? ? ? ? ? ? ? ? ? ? ? ? ? ? ? ? ? ? ? ? ? ? ? ? ? ? ? ? ? ? ? ? ? ? ? ? ? ? ? ? ? ? ? ? ? ? ? ? ? ? ? ? ? ? ? ? ? ? ? ? ? ? ? ? ? ? ? ? ? ? ? ? ? ? ? ? ? ? ? ? ? ? ? ? ? ? ? this person the very first you fu movie that never have ever seen the ? the not the greatest but ? better than some that i had seen the plot is much better than some that many made today it is ? at times but that is what gives it that special ? academy award created is it can but if you like to watch fights and a decent story makes is for you\"\n",
        "print(len(original))\n",
        "exp = explainer.explain_instance( original, c.predict_proba, num_features=20)\n",
        "\n",
        "print('Probability =', c.predict_proba([original]))\n",
        "print('True class: %s' % 1)\n",
        "exp.as_list()\n",
        "%matplotlib inline\n",
        "fig = exp.as_pyplot_figure()\n",
        "\n",
        "\n"
      ],
      "execution_count": null,
      "outputs": [
        {
          "output_type": "stream",
          "text": [
            "Requirement already satisfied: lime in /usr/local/lib/python3.7/dist-packages (0.2.0.1)\n",
            "Requirement already satisfied: matplotlib in /usr/local/lib/python3.7/dist-packages (from lime) (3.2.2)\n",
            "Requirement already satisfied: tqdm in /usr/local/lib/python3.7/dist-packages (from lime) (4.41.1)\n",
            "Requirement already satisfied: scikit-learn>=0.18 in /usr/local/lib/python3.7/dist-packages (from lime) (0.22.2.post1)\n",
            "Requirement already satisfied: numpy in /usr/local/lib/python3.7/dist-packages (from lime) (1.19.5)\n",
            "Requirement already satisfied: scikit-image>=0.12 in /usr/local/lib/python3.7/dist-packages (from lime) (0.16.2)\n",
            "Requirement already satisfied: scipy in /usr/local/lib/python3.7/dist-packages (from lime) (1.4.1)\n",
            "Requirement already satisfied: pyparsing!=2.0.4,!=2.1.2,!=2.1.6,>=2.0.1 in /usr/local/lib/python3.7/dist-packages (from matplotlib->lime) (2.4.7)\n",
            "Requirement already satisfied: cycler>=0.10 in /usr/local/lib/python3.7/dist-packages (from matplotlib->lime) (0.10.0)\n",
            "Requirement already satisfied: python-dateutil>=2.1 in /usr/local/lib/python3.7/dist-packages (from matplotlib->lime) (2.8.1)\n",
            "Requirement already satisfied: kiwisolver>=1.0.1 in /usr/local/lib/python3.7/dist-packages (from matplotlib->lime) (1.3.1)\n",
            "Requirement already satisfied: joblib>=0.11 in /usr/local/lib/python3.7/dist-packages (from scikit-learn>=0.18->lime) (1.0.1)\n",
            "Requirement already satisfied: networkx>=2.0 in /usr/local/lib/python3.7/dist-packages (from scikit-image>=0.12->lime) (2.5.1)\n",
            "Requirement already satisfied: pillow>=4.3.0 in /usr/local/lib/python3.7/dist-packages (from scikit-image>=0.12->lime) (7.1.2)\n",
            "Requirement already satisfied: PyWavelets>=0.4.0 in /usr/local/lib/python3.7/dist-packages (from scikit-image>=0.12->lime) (1.1.1)\n",
            "Requirement already satisfied: imageio>=2.3.0 in /usr/local/lib/python3.7/dist-packages (from scikit-image>=0.12->lime) (2.4.1)\n",
            "Requirement already satisfied: six in /usr/local/lib/python3.7/dist-packages (from cycler>=0.10->matplotlib->lime) (1.15.0)\n",
            "Requirement already satisfied: decorator<5,>=4.3 in /usr/local/lib/python3.7/dist-packages (from networkx>=2.0->scikit-image>=0.12->lime) (4.4.2)\n",
            "Requirement already satisfied: hickle in /usr/local/lib/python3.7/dist-packages (4.0.4)\n",
            "Requirement already satisfied: numpy>=1.8 in /usr/local/lib/python3.7/dist-packages (from hickle) (1.19.5)\n",
            "Requirement already satisfied: six>=1.11.0 in /usr/local/lib/python3.7/dist-packages (from hickle) (1.15.0)\n",
            "Requirement already satisfied: dill>=0.3.0 in /usr/local/lib/python3.7/dist-packages (from hickle) (0.3.3)\n",
            "Requirement already satisfied: h5py<3.0.0,>=2.8.0 in /usr/local/lib/python3.7/dist-packages (from hickle) (2.10.0)\n",
            "Downloading data from https://storage.googleapis.com/tensorflow/tf-keras-datasets/imdb.npz\n",
            "17465344/17464789 [==============================] - 0s 0us/step\n"
          ],
          "name": "stdout"
        },
        {
          "output_type": "stream",
          "text": [
            "<string>:6: VisibleDeprecationWarning: Creating an ndarray from ragged nested sequences (which is a list-or-tuple of lists-or-tuples-or ndarrays with different lengths or shapes) is deprecated. If you meant to do this, you must specify 'dtype=object' when creating the ndarray\n",
            "/usr/local/lib/python3.7/dist-packages/tensorflow/python/keras/datasets/imdb.py:159: VisibleDeprecationWarning: Creating an ndarray from ragged nested sequences (which is a list-or-tuple of lists-or-tuples-or ndarrays with different lengths or shapes) is deprecated. If you meant to do this, you must specify 'dtype=object' when creating the ndarray\n",
            "  x_train, y_train = np.array(xs[:idx]), np.array(labels[:idx])\n"
          ],
          "name": "stderr"
        },
        {
          "output_type": "stream",
          "text": [
            "Downloading data from https://storage.googleapis.com/tensorflow/tf-keras-datasets/imdb_word_index.json\n",
            "1646592/1641221 [==============================] - 0s 0us/step\n"
          ],
          "name": "stdout"
        },
        {
          "output_type": "stream",
          "text": [
            "/usr/local/lib/python3.7/dist-packages/tensorflow/python/keras/datasets/imdb.py:160: VisibleDeprecationWarning: Creating an ndarray from ragged nested sequences (which is a list-or-tuple of lists-or-tuples-or ndarrays with different lengths or shapes) is deprecated. If you meant to do this, you must specify 'dtype=object' when creating the ndarray\n",
            "  x_test, y_test = np.array(xs[idx:]), np.array(labels[idx:])\n"
          ],
          "name": "stderr"
        },
        {
          "output_type": "stream",
          "text": [
            "0\n",
            "? well sorry for the mistake on the one line ? run people run this movie is an horror imagine gary ? in another low budget movie with an incredibly bad ? isn't that a nightmare no well yes it is ? run i give it out of \n",
            "585\n",
            "Probability = [[0.15816567 0.84183433]]\n",
            "True class: 1\n"
          ],
          "name": "stdout"
        },
        {
          "output_type": "display_data",
          "data": {
            "image/png": "[encoded data removed]",
            "text/plain": [
              "<Figure size 432x288 with 1 Axes>"
            ]
          },
          "metadata": {
            "tags": [],
            "needs_background": "light"
          }
        }
      ]
    },
    {
      "cell_type": "code",
      "metadata": {
        "colab": {
          "base_uri": "https://localhost:8080/",
          "height": 332
        },
        "id": "52s8QyCwswU5",
        "outputId": "a0419e8f-314f-460b-92bd-a939c0ab207d"
      },
      "source": [
        "original = \"this was the very first ? fu movie that i have ever seen the ? is not the greatest but ? better than some that i had seen the plot is much better than some that are made today it is ? at times but that is what gives it that special ? academy award material is it not but if you like to watch fights and a decent story this is for you\"\n",
        "noisy = \"this person the very first you fu movie that never have ever seen the ? the not the greatest but ? better than some that i had seen the plot is much better than some that many made today it is ? at times but that is what gives it that special ? academy award created is it can but if you like to watch fights and a decent story makes is for you\"\n",
        "\n",
        "original = \"? ? ? ? ? ? ? ? ? ? ? ? ? ? ? ? ? ? ? ? ? ? ? ? ? ? ? ? ? ? ? ? ? ? ? ? ? ? ? ? ? ? ? ? ? ? ? ? ? ? ? ? ? ? ? ? ? ? ? ? ? ? ? ? ? ? ? ? ? ? ? ? ? ? ? ? ? ? ? ? ? ? ? ? ? ? ? ? ? ? ? ? ? ? ? ? ? ? ? ? ? ? ? ? ? ? ? ? ? ? ? ? ? ? ? ? ? i first watched this movie in ? film festival back in ? it was so good i took couple of friends with me and went to see it again the same week the characters are very well played and the humor here and there is amazing it sure is a very powerful gay movie some scenes make you feel here's watching an episode of friends with much more ? lines i guess here's put it in my ? and watch it again ?\"\n",
        "noisy = \" ? ? ? ? ? ? ? ? ? ? ? ? ? ? ? ? ? ? ? ? ? ? ? ? ? ? ? ? ? ? ? ? ? ? ? ? ? ? ? ? ? ? ? ? ? ? ? ? ? ? ? ? ? ? ? ? ? ? ? ? ? ? ? ? ? ? ? ? ? ? ? ? ? ? ? ? ? ? ? ? ? ? ? ? ? ? ? ? ? ? ? ? ? ? ? ? ? ? ? ? ? ? ? ? ? ? ? ? ? ? ? ? ? ? ? ? i first watched this hollywood in ? film festival back normal ? it was can good i took began of friends with me and went to see it time the same week the characters are very well played and one humor here and there is amazing it sure is a clearly powerful gay movie some scenes make you feel here's watching an episode of lady with much more ? lines i guess here's put it in your you and watch it again ?\"\n",
        "\n",
        "original = \"can to some people look a bit long but here's one of rare real adventure film it could be compare to with a bit of ? you must see it\"\n",
        "noisy = \"can to some people look a bit long but here's one the rare real adventure film it could be compare to with a bit natural ? you can see it\"\n",
        "\n",
        "\n",
        "original = \"original beautiful movie the acting is great the ? ? ? are superb paris at its best but then the real paris not the famous ? and the music will do also a brilliant very ? which i just very much love br br the best french movie here's seen and french cinema is very good\"\n",
        "noisy = \"original inspired movie one acting the battle battle fat ? ? are excellent paris at its best but finally the real paris not one famous black and normal music will do by a inspired extremely ? is i just though much inspired br br one best french movie here's seen and french cinema is very success\"\n",
        "\n",
        "\n",
        "original = \"i see ? of student films this is ? james ? is a good director he moves the camera tells the story and uses music in a way that is far ? for his years no wonder he got a feature from this film br br\"\n",
        "noisy = \"i see ? of teacher movies the is ? c ? is a good director gets makes normal camera tells the story and uses music normal a way can is situations fat for this years no wonder he getting a thing from makes film br br\"\n",
        "\n",
        "print(len(original))\n",
        "exp = explainer.explain_instance( original, c.predict_proba, num_features=20)\n",
        "\n",
        "print('Probability =', c.predict_proba([original]))\n",
        "print('True class: %s' % 1)\n",
        "exp.as_list()\n",
        "%matplotlib inline\n",
        "fig = exp.as_pyplot_figure()"
      ],
      "execution_count": null,
      "outputs": [
        {
          "output_type": "stream",
          "text": [
            "197\n",
            "Probability = [[0.03416688 0.96583312]]\n",
            "True class: 1\n"
          ],
          "name": "stdout"
        },
        {
          "output_type": "display_data",
          "data": {
            "image/png": "[encoded data removed]",
            "text/plain": [
              "<Figure size 432x288 with 1 Axes>"
            ]
          },
          "metadata": {
            "tags": [],
            "needs_background": "light"
          }
        }
      ]
    },
    {
      "cell_type": "code",
      "metadata": {
        "id": "Us_T2zFLGSeO"
      },
      "source": [
        "0.6589 \n"
      ],
      "execution_count": null,
      "outputs": []
    },
    {
      "cell_type": "code",
      "metadata": {
        "colab": {
          "base_uri": "https://localhost:8080/",
          "height": 315
        },
        "id": "eo6eCuATR3e0",
        "outputId": "f73ac987-b92b-463f-be15-bf54a7abffd7"
      },
      "source": [
        "exp = explainer.explain_instance(noisy , c.predict_proba, num_features=20)\n",
        "print('Probability =', c.predict_proba([noisy]))\n",
        "exp.as_list()\n",
        "%matplotlib inline\n",
        "fig = exp.as_pyplot_figure()\n",
        "print(\">>>>>>>>>>>>>>>>>>>>>>>>>>>>>>>>>>>>>>>>>>>>>>>>>>>>>>>>>>>>>\")"
      ],
      "execution_count": null,
      "outputs": [
        {
          "output_type": "stream",
          "text": [
            "Probability = [[0.15141174 0.84858826]]\n",
            ">>>>>>>>>>>>>>>>>>>>>>>>>>>>>>>>>>>>>>>>>>>>>>>>>>>>>>>>>>>>>\n"
          ],
          "name": "stdout"
        },
        {
          "output_type": "display_data",
          "data": {
            "image/png": "[encoded data removed]",
            "text/plain": [
              "<Figure size 432x288 with 1 Axes>"
            ]
          },
          "metadata": {
            "tags": [],
            "needs_background": "light"
          }
        }
      ]
    },
    {
      "cell_type": "markdown",
      "metadata": {
        "id": "c4f89l_UlvYT"
      },
      "source": [
        "# Plot VAE result\n"
      ]
    },
    {
      "cell_type": "code",
      "metadata": {
        "colab": {
          "base_uri": "https://localhost:8080/",
          "height": 297
        },
        "id": "aUp3b59Dl12_",
        "outputId": "7315e08d-2851-47d3-c63d-770a8623c3f6"
      },
      "source": [
        "import matplotlib.pyplot as plt\n",
        "f = open(\"/content/drive/MyDrive/MLprj/AE-3.out\", \"r\")\n",
        "lines = f.read().split(\"decoded_mean_accuracy: \")\n",
        "acc = []\n",
        "index = []\n",
        "for i in range(1, 40000):\n",
        "      acc.append(float(lines[i].split(\" - \")[0])*100)\n",
        "      index.append(i)\n",
        "      \n",
        "plt.plot(index, acc)\n",
        "plt.xlabel(\"Number of epochs\")\n",
        "plt.ylabel(\"VAE Accuracy\")\n",
        "plt.show()\n",
        "print(max(acc))"
      ],
      "execution_count": null,
      "outputs": [
        {
          "output_type": "display_data",
          "data": {
            "image/png": "[encoded data removed]",
            "text/plain": [
              "<Figure size 432x288 with 1 Axes>"
            ]
          },
          "metadata": {
            "tags": [],
            "needs_background": "light"
          }
        },
        {
          "output_type": "stream",
          "text": [
            "44.35\n"
          ],
          "name": "stdout"
        }
      ]
    }
  ]
}